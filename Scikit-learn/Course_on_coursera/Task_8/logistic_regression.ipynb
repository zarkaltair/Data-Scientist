{
  "nbformat": 4,
  "nbformat_minor": 0,
  "metadata": {
    "colab": {
      "name": "logistic_regression.ipynb",
      "version": "0.3.2",
      "provenance": [],
      "collapsed_sections": []
    },
    "kernelspec": {
      "name": "python3",
      "display_name": "Python 3"
    }
  },
  "cells": [
    {
      "metadata": {
        "id": "WOL5_CXslpLu",
        "colab_type": "code",
        "colab": {}
      },
      "cell_type": "code",
      "source": [
        "import pandas as pd\n",
        "import numpy as np\n",
        "import math\n",
        "from sklearn.linear_model import LogisticRegression\n",
        "from sklearn.metrics import roc_auc_score"
      ],
      "execution_count": 0,
      "outputs": []
    },
    {
      "metadata": {
        "id": "fbbnOBz_l-Rg",
        "colab_type": "code",
        "outputId": "e7718475-2319-4d95-961a-c2dc3a55f896",
        "colab": {
          "base_uri": "https://localhost:8080/",
          "height": 204
        }
      },
      "cell_type": "code",
      "source": [
        "df = pd.read_csv('data-logistic.csv', header=None)\n",
        "df.head()"
      ],
      "execution_count": 3,
      "outputs": [
        {
          "output_type": "execute_result",
          "data": {
            "text/html": [
              "<div>\n",
              "<style scoped>\n",
              "    .dataframe tbody tr th:only-of-type {\n",
              "        vertical-align: middle;\n",
              "    }\n",
              "\n",
              "    .dataframe tbody tr th {\n",
              "        vertical-align: top;\n",
              "    }\n",
              "\n",
              "    .dataframe thead th {\n",
              "        text-align: right;\n",
              "    }\n",
              "</style>\n",
              "<table border=\"1\" class=\"dataframe\">\n",
              "  <thead>\n",
              "    <tr style=\"text-align: right;\">\n",
              "      <th></th>\n",
              "      <th>0</th>\n",
              "      <th>1</th>\n",
              "      <th>2</th>\n",
              "    </tr>\n",
              "  </thead>\n",
              "  <tbody>\n",
              "    <tr>\n",
              "      <th>0</th>\n",
              "      <td>-1</td>\n",
              "      <td>-0.663827</td>\n",
              "      <td>-0.138526</td>\n",
              "    </tr>\n",
              "    <tr>\n",
              "      <th>1</th>\n",
              "      <td>1</td>\n",
              "      <td>1.994596</td>\n",
              "      <td>2.468025</td>\n",
              "    </tr>\n",
              "    <tr>\n",
              "      <th>2</th>\n",
              "      <td>-1</td>\n",
              "      <td>-1.247395</td>\n",
              "      <td>0.749425</td>\n",
              "    </tr>\n",
              "    <tr>\n",
              "      <th>3</th>\n",
              "      <td>1</td>\n",
              "      <td>2.309374</td>\n",
              "      <td>1.899836</td>\n",
              "    </tr>\n",
              "    <tr>\n",
              "      <th>4</th>\n",
              "      <td>1</td>\n",
              "      <td>0.849143</td>\n",
              "      <td>2.407750</td>\n",
              "    </tr>\n",
              "  </tbody>\n",
              "</table>\n",
              "</div>"
            ],
            "text/plain": [
              "   0         1         2\n",
              "0 -1 -0.663827 -0.138526\n",
              "1  1  1.994596  2.468025\n",
              "2 -1 -1.247395  0.749425\n",
              "3  1  2.309374  1.899836\n",
              "4  1  0.849143  2.407750"
            ]
          },
          "metadata": {
            "tags": []
          },
          "execution_count": 3
        }
      ]
    },
    {
      "metadata": {
        "id": "Qni1_YVmgw5R",
        "colab_type": "code",
        "colab": {}
      },
      "cell_type": "code",
      "source": [
        "y = df[0]\n",
        "X = df.loc[:, 1:]"
      ],
      "execution_count": 0,
      "outputs": []
    },
    {
      "metadata": {
        "id": "ze4u4nSIg9k_",
        "colab_type": "code",
        "colab": {}
      },
      "cell_type": "code",
      "source": [
        "def fw1(w1, w2, y, X, k, C):\n",
        "    l = len(y)\n",
        "    S = 0\n",
        "    for i in range(0, l):\n",
        "        S += y[i] * X[1][i] * (1.0 - 1.0 / (1.0 + math.exp(-y[i] * (w1*X[1][i] + w2*X[2][i]))))\n",
        "\n",
        "    return w1 + (k * (1.0 / l) * S) - k * C * w1"
      ],
      "execution_count": 0,
      "outputs": []
    },
    {
      "metadata": {
        "id": "9l-iQuoXhAWc",
        "colab_type": "code",
        "colab": {}
      },
      "cell_type": "code",
      "source": [
        "def fw2(w1, w2, y, X, k, C):\n",
        "    l = len(y)\n",
        "    S = 0\n",
        "    for i in range(0, l):\n",
        "        S += y[i] * X[2][i] * (1.0 - 1.0 / (1.0 + math.exp(-y[i] * (w1*X[1][i] + w2*X[2][i]))))\n",
        "\n",
        "    return w2 + (k * (1.0 / l) * S) - k * C * w2"
      ],
      "execution_count": 0,
      "outputs": []
    },
    {
      "metadata": {
        "id": "jJDCSCyphD3C",
        "colab_type": "code",
        "colab": {}
      },
      "cell_type": "code",
      "source": [
        "def grad(y, X, C=0.0, w1=0.0, w2=0.0, k=0.1, err=1e-5):\n",
        "    i = 0\n",
        "    i_max = 10000\n",
        "    w1_new, w2_new = w1, w2\n",
        "\n",
        "    while True:\n",
        "        i += 1\n",
        "        w1_new, w2_new = fw1(w1, w2, y, X, k, C), fw2(w1, w2, y, X, k, C)\n",
        "        e = math.sqrt((w1_new - w1) ** 2 + (w2_new - w2) ** 2)\n",
        "\n",
        "        if i >= i_max or e <= err:\n",
        "            break\n",
        "        else:\n",
        "            w1, w2 = w1_new, w2_new\n",
        "\n",
        "    return [w1_new, w2_new]"
      ],
      "execution_count": 0,
      "outputs": []
    },
    {
      "metadata": {
        "id": "06M7xhfohNwK",
        "colab_type": "code",
        "colab": {}
      },
      "cell_type": "code",
      "source": [
        "w1, w2 = grad(y, X)\n",
        "rw1, rw2 = grad(y, X, 10.0)"
      ],
      "execution_count": 0,
      "outputs": []
    },
    {
      "metadata": {
        "id": "TNoqk-kuiLoP",
        "colab_type": "code",
        "colab": {}
      },
      "cell_type": "code",
      "source": [
        "def a(X, w1, w2):\n",
        "    return 1.0 / (1.0 + math.exp(-w1 * X[1] - w2 * X[2]))"
      ],
      "execution_count": 0,
      "outputs": []
    },
    {
      "metadata": {
        "id": "IaceUUpUiOFO",
        "colab_type": "code",
        "colab": {
          "base_uri": "https://localhost:8080/",
          "height": 34
        },
        "outputId": "d055c812-e36b-4130-a96e-1c11ba90130e"
      },
      "cell_type": "code",
      "source": [
        "y_score = X.apply(lambda x: a(x, w1, w2), axis=1)\n",
        "y_rscore = X.apply(lambda x: a(x, rw1, rw2), axis=1)\n",
        "\n",
        "auc = roc_auc_score(y, y_score)\n",
        "rauc = roc_auc_score(y, y_rscore)\n",
        "\n",
        "ans = \"{:0.3f} {:0.3f}\".format(auc, rauc)\n",
        "ans"
      ],
      "execution_count": 32,
      "outputs": [
        {
          "output_type": "execute_result",
          "data": {
            "text/plain": [
              "'0.927 0.936'"
            ]
          },
          "metadata": {
            "tags": []
          },
          "execution_count": 32
        }
      ]
    },
    {
      "metadata": {
        "id": "KxtP7ECwm4dE",
        "colab_type": "code",
        "colab": {
          "base_uri": "https://localhost:8080/",
          "height": 88
        },
        "outputId": "cb217caa-2873-4b99-e0c2-80e632fe202c"
      },
      "cell_type": "code",
      "source": [
        "clf_auc = LogisticRegression(penalty='l1', C=1.0, tol=1e-5, random_state=0, intercept_scaling=0.1)\n",
        "clf_auc.fit(X, y)\n",
        "y_score = clf_auc.predict_proba(X)[:, 1:2]\n",
        "c_auc = roc_auc_score(y, y_score)\n",
        "c_auc"
      ],
      "execution_count": 60,
      "outputs": [
        {
          "output_type": "stream",
          "text": [
            "/usr/local/lib/python3.6/dist-packages/sklearn/linear_model/logistic.py:433: FutureWarning: Default solver will be changed to 'lbfgs' in 0.22. Specify a solver to silence this warning.\n",
            "  FutureWarning)\n"
          ],
          "name": "stderr"
        },
        {
          "output_type": "execute_result",
          "data": {
            "text/plain": [
              "0.9274285714285713"
            ]
          },
          "metadata": {
            "tags": []
          },
          "execution_count": 60
        }
      ]
    },
    {
      "metadata": {
        "id": "nKSPAM8luJcf",
        "colab_type": "code",
        "colab": {
          "base_uri": "https://localhost:8080/",
          "height": 34
        },
        "outputId": "cdcf5410-49bc-40f3-8bff-c1c44c5879d9"
      },
      "cell_type": "code",
      "source": [
        "clf_rauc = LogisticRegression(penalty='l2', C=0.02, tol=1e-5, random_state=0, solver='lbfgs', intercept_scaling=0.1, multi_class='ovr')\n",
        "clf_rauc.fit(X, y)\n",
        "y_rscore = clf_rauc.predict_proba(X)[:, 1:2]\n",
        "c_rauc = roc_auc_score(y, y_rscore)\n",
        "c_rauc"
      ],
      "execution_count": 85,
      "outputs": [
        {
          "output_type": "execute_result",
          "data": {
            "text/plain": [
              "0.9361904761904761"
            ]
          },
          "metadata": {
            "tags": []
          },
          "execution_count": 85
        }
      ]
    },
    {
      "metadata": {
        "id": "R9OK4g6RvWwx",
        "colab_type": "code",
        "colab": {
          "base_uri": "https://localhost:8080/",
          "height": 34
        },
        "outputId": "fa4c940e-65d9-497b-aaa9-50041975b5a9"
      },
      "cell_type": "code",
      "source": [
        "answer = \"{:0.3f} {:0.3f}\".format(c_auc, c_rauc)\n",
        "answer"
      ],
      "execution_count": 86,
      "outputs": [
        {
          "output_type": "execute_result",
          "data": {
            "text/plain": [
              "'0.927 0.936'"
            ]
          },
          "metadata": {
            "tags": []
          },
          "execution_count": 86
        }
      ]
    }
  ]
}