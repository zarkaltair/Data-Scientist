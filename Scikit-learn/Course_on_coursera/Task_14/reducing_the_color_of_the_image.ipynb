{
  "nbformat": 4,
  "nbformat_minor": 0,
  "metadata": {
    "colab": {
      "name": " reducing_the_color_of_the_image.ipynb",
      "version": "0.3.2",
      "provenance": [],
      "collapsed_sections": []
    },
    "kernelspec": {
      "name": "python3",
      "display_name": "Python 3"
    }
  },
  "cells": [
    {
      "metadata": {
        "id": "mLnY1_LIdZzn",
        "colab_type": "code",
        "colab": {}
      },
      "cell_type": "code",
      "source": [
        "import pandas as pd\n",
        "import numpy as np\n",
        "import math\n",
        "from skimage import img_as_float\n",
        "from sklearn.cluster import KMeans"
      ],
      "execution_count": 0,
      "outputs": []
    },
    {
      "metadata": {
        "id": "xnpuUGzdbz_8",
        "colab_type": "code",
        "colab": {}
      },
      "cell_type": "code",
      "source": [
        "%matplotlib inline\n",
        "from skimage.io import imread, imsave\n",
        "image = imread('parrots.jpg')\n",
        "import pylab\n",
        "pylab.imshow(image)"
      ],
      "execution_count": 0,
      "outputs": []
    },
    {
      "metadata": {
        "id": "UTqOjOqNcMga",
        "colab_type": "code",
        "colab": {}
      },
      "cell_type": "code",
      "source": [
        "image_conv = img_as_float(image)\n",
        "w, h, d = image_conv.shape"
      ],
      "execution_count": 0,
      "outputs": []
    },
    {
      "metadata": {
        "id": "ipMctwXNhvgU",
        "colab_type": "code",
        "colab": {
          "base_uri": "https://localhost:8080/",
          "height": 34
        },
        "outputId": "8eecc736-9b52-4de2-cd49-53af3ed41949"
      },
      "cell_type": "code",
      "source": [
        "df = pd.DataFrame(np.reshape(image_conv, (w * h, d)), columns=['R', 'G', 'B'])\n",
        "df.shape"
      ],
      "execution_count": 21,
      "outputs": [
        {
          "output_type": "execute_result",
          "data": {
            "text/plain": [
              "(337962, 3)"
            ]
          },
          "metadata": {
            "tags": []
          },
          "execution_count": 21
        }
      ]
    },
    {
      "metadata": {
        "id": "VoAfsVv_c1ee",
        "colab_type": "code",
        "colab": {
          "base_uri": "https://localhost:8080/",
          "height": 68
        },
        "outputId": "3c662a05-4277-463b-f607-46c7d6ac5290"
      },
      "cell_type": "code",
      "source": [
        "kmeans = KMeans(init='k-means++', n_clusters=12, random_state=241)\n",
        "kmeans.fit(df)"
      ],
      "execution_count": 60,
      "outputs": [
        {
          "output_type": "execute_result",
          "data": {
            "text/plain": [
              "KMeans(algorithm='auto', copy_x=True, init='k-means++', max_iter=300,\n",
              "    n_clusters=12, n_init=10, n_jobs=None, precompute_distances='auto',\n",
              "    random_state=241, tol=0.0001, verbose=0)"
            ]
          },
          "metadata": {
            "tags": []
          },
          "execution_count": 60
        }
      ]
    },
    {
      "metadata": {
        "id": "yMAKgfvUgFom",
        "colab_type": "code",
        "colab": {}
      },
      "cell_type": "code",
      "source": [
        "df['cluster'] = kmeans.fit_predict(df)"
      ],
      "execution_count": 0,
      "outputs": []
    },
    {
      "metadata": {
        "id": "0A6ULYs9kYL7",
        "colab_type": "code",
        "colab": {}
      },
      "cell_type": "code",
      "source": [
        "means = df.groupby('cluster').mean().values\n",
        "mean_df = [means[c] for c in df['cluster'].values]\n",
        "mean_image = np.reshape(mean_df, (w, h, d))\n",
        "imsave('parrots_' + str(12) + '.jpg', mean_image)"
      ],
      "execution_count": 0,
      "outputs": []
    },
    {
      "metadata": {
        "id": "xuLpHRbFk16f",
        "colab_type": "code",
        "colab": {}
      },
      "cell_type": "code",
      "source": [
        "parrots_12 = imread('parrots_12.jpg')\n",
        "pylab.imshow(parrots_12)"
      ],
      "execution_count": 0,
      "outputs": []
    },
    {
      "metadata": {
        "id": "jHToMR99lPfW",
        "colab_type": "code",
        "colab": {}
      },
      "cell_type": "code",
      "source": [
        "medians = df.groupby('cluster').median().values\n",
        "median_df = [medians[c] for c in df['cluster'].values]\n",
        "median_image = np.reshape(median_df, (w, h, d))\n",
        "# imsave('parrots_' + str(88) + '.jpg', mean_image)"
      ],
      "execution_count": 0,
      "outputs": []
    },
    {
      "metadata": {
        "id": "cbRnDX2ClseQ",
        "colab_type": "code",
        "colab": {}
      },
      "cell_type": "code",
      "source": [
        "parrots_88 = imread('parrots_88.jpg')\n",
        "pylab.imshow(parrots_88)"
      ],
      "execution_count": 0,
      "outputs": []
    },
    {
      "metadata": {
        "id": "s00TKBORnTLz",
        "colab_type": "code",
        "colab": {
          "base_uri": "https://localhost:8080/",
          "height": 34
        },
        "outputId": "f0fb0830-44d0-4b83-8501-7f4c39ead9df"
      },
      "cell_type": "code",
      "source": [
        "mse = np.mean((image_conv - mean_image) ** 2)\n",
        "psnr_mean = 10 * math.log10(float(1) / mse)\n",
        "psnr_mean"
      ],
      "execution_count": 64,
      "outputs": [
        {
          "output_type": "execute_result",
          "data": {
            "text/plain": [
              "20.237250821856154"
            ]
          },
          "metadata": {
            "tags": []
          },
          "execution_count": 64
        }
      ]
    },
    {
      "metadata": {
        "id": "kA8x1qLVoWj3",
        "colab_type": "code",
        "colab": {
          "base_uri": "https://localhost:8080/",
          "height": 34
        },
        "outputId": "63e00611-2afb-4cea-ec0c-584754388813"
      },
      "cell_type": "code",
      "source": [
        "mse = np.mean((image_conv - median_image) ** 2)\n",
        "psnr_median = 10 * math.log10(float(1) / mse)\n",
        "psnr_median"
      ],
      "execution_count": 65,
      "outputs": [
        {
          "output_type": "execute_result",
          "data": {
            "text/plain": [
              "20.007523095094335"
            ]
          },
          "metadata": {
            "tags": []
          },
          "execution_count": 65
        }
      ]
    }
  ]
}