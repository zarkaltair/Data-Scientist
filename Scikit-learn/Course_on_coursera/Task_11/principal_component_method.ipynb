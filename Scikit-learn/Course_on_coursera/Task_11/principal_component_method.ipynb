{
  "nbformat": 4,
  "nbformat_minor": 0,
  "metadata": {
    "colab": {
      "name": "principal_component_method.ipynb",
      "version": "0.3.2",
      "provenance": [],
      "collapsed_sections": []
    },
    "kernelspec": {
      "name": "python3",
      "display_name": "Python 3"
    }
  },
  "cells": [
    {
      "metadata": {
        "id": "2Mb7sF10zFqi",
        "colab_type": "code",
        "colab": {}
      },
      "cell_type": "code",
      "source": [
        "import pandas as pd\n",
        "import numpy as np\n",
        "from sklearn.decomposition import PCA"
      ],
      "execution_count": 0,
      "outputs": []
    },
    {
      "metadata": {
        "id": "IYttOgnszM5T",
        "colab_type": "code",
        "colab": {}
      },
      "cell_type": "code",
      "source": [
        "close_prices = pd.read_csv('close_prices.csv')"
      ],
      "execution_count": 0,
      "outputs": []
    },
    {
      "metadata": {
        "id": "jfnf_JgY1Jdx",
        "colab_type": "code",
        "colab": {}
      },
      "cell_type": "code",
      "source": [
        "x = close_prices.drop(['date'], axis=1)"
      ],
      "execution_count": 0,
      "outputs": []
    },
    {
      "metadata": {
        "id": "z_ZzBSme0lXP",
        "colab_type": "code",
        "colab": {
          "base_uri": "https://localhost:8080/",
          "height": 51
        },
        "outputId": "4cfdbd42-7b40-4943-f321-179670dc760a"
      },
      "cell_type": "code",
      "source": [
        "pca = PCA(n_components=10)\n",
        "pca.fit(x)\n",
        "pca.explained_variance_ratio_"
      ],
      "execution_count": 13,
      "outputs": [
        {
          "output_type": "execute_result",
          "data": {
            "text/plain": [
              "array([0.73897118, 0.11007169, 0.04995088, 0.0287492 , 0.02215448,\n",
              "       0.01931577, 0.00674853, 0.00614091, 0.00320594, 0.00305611])"
            ]
          },
          "metadata": {
            "tags": []
          },
          "execution_count": 13
        }
      ]
    },
    {
      "metadata": {
        "id": "WmtwKdcM4HD4",
        "colab_type": "code",
        "colab": {}
      },
      "cell_type": "code",
      "source": [
        "df = pd.DataFrame(pca.transform(x))\n",
        "y = df[0]"
      ],
      "execution_count": 0,
      "outputs": []
    },
    {
      "metadata": {
        "id": "5Qvy84Cd26d9",
        "colab_type": "code",
        "colab": {}
      },
      "cell_type": "code",
      "source": [
        "dj = pd.read_csv('djia_index.csv')\n",
        "y_test = dj['^DJI']"
      ],
      "execution_count": 0,
      "outputs": []
    },
    {
      "metadata": {
        "id": "knhVvKV9Gp9n",
        "colab_type": "code",
        "colab": {
          "base_uri": "https://localhost:8080/",
          "height": 51
        },
        "outputId": "b4567fee-5352-41bc-d592-d06bbbe21515"
      },
      "cell_type": "code",
      "source": [
        "corr = np.corrcoef(y, y_test)\n",
        "corr"
      ],
      "execution_count": 25,
      "outputs": [
        {
          "output_type": "execute_result",
          "data": {
            "text/plain": [
              "array([[1.        , 0.90965222],\n",
              "       [0.90965222, 1.        ]])"
            ]
          },
          "metadata": {
            "tags": []
          },
          "execution_count": 25
        }
      ]
    },
    {
      "metadata": {
        "id": "DGfcpScVG66B",
        "colab_type": "code",
        "colab": {
          "base_uri": "https://localhost:8080/",
          "height": 68
        },
        "outputId": "6df07830-b171-4510-f9cd-53f737801e85"
      },
      "cell_type": "code",
      "source": [
        "pca.explained_variance_"
      ],
      "execution_count": 26,
      "outputs": [
        {
          "output_type": "execute_result",
          "data": {
            "text/plain": [
              "array([1522.30984761,  226.75203269,  102.90079304,   59.22448474,\n",
              "         45.63910225,   39.79124256,   13.90224179,   12.65051773,\n",
              "          6.6043666 ,    6.29570803])"
            ]
          },
          "metadata": {
            "tags": []
          },
          "execution_count": 26
        }
      ]
    },
    {
      "metadata": {
        "id": "O5bOHGIyITFj",
        "colab_type": "code",
        "colab": {
          "base_uri": "https://localhost:8080/",
          "height": 34
        },
        "outputId": "0527f0ac-a78f-4366-9754-4b564ab3b713"
      },
      "cell_type": "code",
      "source": [
        "comp_0 = pd.Series(pca.components_[0])\n",
        "comp_0_top = comp_0.sort_values(ascending=False).head(1).index[0]\n",
        "x.columns[comp_0_top]"
      ],
      "execution_count": 45,
      "outputs": [
        {
          "output_type": "execute_result",
          "data": {
            "text/plain": [
              "'V'"
            ]
          },
          "metadata": {
            "tags": []
          },
          "execution_count": 45
        }
      ]
    }
  ]
}