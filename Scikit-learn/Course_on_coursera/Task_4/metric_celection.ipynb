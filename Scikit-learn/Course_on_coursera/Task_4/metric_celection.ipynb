{
  "nbformat": 4,
  "nbformat_minor": 0,
  "metadata": {
    "colab": {
      "name": "metric_celection.ipynb",
      "version": "0.3.2",
      "provenance": []
    },
    "kernelspec": {
      "name": "python3",
      "display_name": "Python 3"
    }
  },
  "cells": [
    {
      "metadata": {
        "id": "N8spuFaxtk6C",
        "colab_type": "code",
        "colab": {}
      },
      "cell_type": "code",
      "source": [
        "import pandas as pd\n",
        "import numpy as np\n",
        "from sklearn.neighbors import KNeighborsRegressor\n",
        "from sklearn.model_selection import KFold\n",
        "from sklearn.datasets import load_boston\n",
        "from sklearn.preprocessing import scale\n",
        "from sklearn.model_selection import cross_val_score"
      ],
      "execution_count": 0,
      "outputs": []
    },
    {
      "metadata": {
        "id": "A3DyvPFvvASm",
        "colab_type": "code",
        "colab": {}
      },
      "cell_type": "code",
      "source": [
        "boston = load_boston()\n",
        "x, y = boston['data'], boston['target']\n",
        "x = scale(x)"
      ],
      "execution_count": 0,
      "outputs": []
    },
    {
      "metadata": {
        "id": "BmWxym9Mz0vT",
        "colab_type": "code",
        "colab": {}
      },
      "cell_type": "code",
      "source": [
        "p = np.linspace(1, 10, 200)\n",
        "kfold = KFold(n_splits=5, shuffle=True, random_state=42)\n",
        "arr = []\n",
        "for i in p:\n",
        "    model = KNeighborsRegressor(p=i, n_neighbors=5, weights='distance')\n",
        "    scores = cross_val_score(model, x, y, cv=kfold, scoring='neg_mean_squared_error')\n",
        "    arr.append(scores)\n",
        "df = pd.DataFrame(arr, p).max(axis=1).sort_values(ascending=False)\n",
        "df.head(1)"
      ],
      "execution_count": 0,
      "outputs": []
    }
  ]
}