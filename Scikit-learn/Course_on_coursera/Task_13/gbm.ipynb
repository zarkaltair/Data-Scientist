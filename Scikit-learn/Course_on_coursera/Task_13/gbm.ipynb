{
 "cells": [
  {
   "cell_type": "code",
   "execution_count": 9,
   "metadata": {},
   "outputs": [],
   "source": [
    "import pandas as pd\n",
    "import numpy as np\n",
    "import math\n",
    "from sklearn.ensemble import GradientBoostingClassifier\n",
    "from sklearn.ensemble import RandomForestClassifier\n",
    "from sklearn.model_selection import train_test_split\n",
    "from sklearn.metrics import log_loss"
   ]
  },
  {
   "cell_type": "code",
   "execution_count": 3,
   "metadata": {},
   "outputs": [],
   "source": [
    "df = pd.read_csv('gbm-data.csv')\n",
    "y = df['Activity'].values\n",
    "X = df.drop(['Activity'], axis=1).values"
   ]
  },
  {
   "cell_type": "code",
   "execution_count": 4,
   "metadata": {},
   "outputs": [],
   "source": [
    "X_train, X_test, y_train, y_test = train_test_split(X, y, test_size=0.8, random_state=241)"
   ]
  },
  {
   "cell_type": "code",
   "execution_count": 17,
   "metadata": {},
   "outputs": [
    {
     "name": "stdout",
     "output_type": "stream",
     "text": [
      "      Iter       Train Loss   Remaining Time \n",
      "         1           1.2613           35.97s\n",
      "         2           1.1715           37.42s\n",
      "         3           1.1009           36.85s\n",
      "         4           1.0529           37.43s\n",
      "         5           1.0130           36.93s\n",
      "         6           0.9740           37.03s\n",
      "         7           0.9475           34.96s\n",
      "         8           0.9197           35.29s\n",
      "         9           0.8979           33.92s\n",
      "        10           0.8730           34.06s\n",
      "        20           0.7207           27.73s\n",
      "        30           0.6055           25.17s\n",
      "        40           0.5244           23.76s\n",
      "        50           0.4501           22.86s\n",
      "        60           0.3908           21.30s\n",
      "        70           0.3372           20.21s\n",
      "        80           0.3009           18.99s\n",
      "        90           0.2603           17.87s\n",
      "       100           0.2327           16.62s\n",
      "       200           0.0835            5.39s\n"
     ]
    },
    {
     "data": {
      "text/plain": [
       "GradientBoostingClassifier(criterion='friedman_mse', init=None,\n",
       "              learning_rate=0.2, loss='deviance', max_depth=3,\n",
       "              max_features=None, max_leaf_nodes=None,\n",
       "              min_impurity_decrease=0.0, min_impurity_split=None,\n",
       "              min_samples_leaf=1, min_samples_split=2,\n",
       "              min_weight_fraction_leaf=0.0, n_estimators=250,\n",
       "              n_iter_no_change=None, presort='auto', random_state=241,\n",
       "              subsample=1.0, tol=0.0001, validation_fraction=0.1,\n",
       "              verbose=True, warm_start=False)"
      ]
     },
     "execution_count": 17,
     "metadata": {},
     "output_type": "execute_result"
    }
   ],
   "source": [
    "gbm_model = GradientBoostingClassifier(n_estimators=250, learning_rate=0.2, verbose=True, random_state=241)\n",
    "gbm_model.fit(X_train, y_train)"
   ]
  },
  {
   "cell_type": "code",
   "execution_count": 18,
   "metadata": {},
   "outputs": [
    {
     "data": {
      "text/plain": [
       "0.5314507963190638"
      ]
     },
     "execution_count": 18,
     "metadata": {},
     "output_type": "execute_result"
    }
   ],
   "source": [
    "arr = []\n",
    "for i in gbm_model.staged_decision_function(X_test):\n",
    "    arr.append(log_loss(y_test, [(1.0 / (1.0 + math.exp(-j))) for j in i]))\n",
    "min(arr)"
   ]
  },
  {
   "cell_type": "code",
   "execution_count": 27,
   "metadata": {},
   "outputs": [
    {
     "data": {
      "text/plain": [
       "0.5415685811957381"
      ]
     },
     "execution_count": 27,
     "metadata": {},
     "output_type": "execute_result"
    }
   ],
   "source": [
    "rf_model = RandomForestClassifier(n_estimators=36, random_state=241)\n",
    "rf_model.fit(X_train, y_train)\n",
    "y_pred = rf_model.predict_proba(X_test)[:, 1]\n",
    "log_loss(y_test, y_pred)"
   ]
  }
 ],
 "metadata": {
  "kernelspec": {
   "display_name": "Python 3",
   "language": "python",
   "name": "python3"
  },
  "language_info": {
   "codemirror_mode": {
    "name": "ipython",
    "version": 3
   },
   "file_extension": ".py",
   "mimetype": "text/x-python",
   "name": "python",
   "nbconvert_exporter": "python",
   "pygments_lexer": "ipython3",
   "version": "3.6.7"
  }
 },
 "nbformat": 4,
 "nbformat_minor": 2
}
