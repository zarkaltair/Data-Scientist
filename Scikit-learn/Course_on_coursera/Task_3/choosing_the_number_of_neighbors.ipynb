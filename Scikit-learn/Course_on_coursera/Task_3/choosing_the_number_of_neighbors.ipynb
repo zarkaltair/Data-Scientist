{
  "nbformat": 4,
  "nbformat_minor": 0,
  "metadata": {
    "colab": {
      "name": "choosing_the_number_of_neighbors.ipynb",
      "version": "0.3.2",
      "provenance": [],
      "collapsed_sections": []
    },
    "kernelspec": {
      "name": "python3",
      "display_name": "Python 3"
    }
  },
  "cells": [
    {
      "metadata": {
        "id": "pE9kBm_WcgXv",
        "colab_type": "code",
        "colab": {}
      },
      "cell_type": "code",
      "source": [
        "import pandas as pd\n",
        "from sklearn.model_selection import KFold\n",
        "from sklearn.neighbors import KNeighborsClassifier\n",
        "from sklearn.preprocessing import scale"
      ],
      "execution_count": 0,
      "outputs": []
    },
    {
      "metadata": {
        "id": "izl5a1wodKsf",
        "colab_type": "code",
        "colab": {}
      },
      "cell_type": "code",
      "source": [
        "df = pd.read_table('_805605c804bae8c5c24785f433b230ce_wine.data', \n",
        "                   sep=',', \n",
        "                   index_col=False,\n",
        "                   names=[1,2,3,4,5,6,7,8,9,10,11,12,13,14])"
      ],
      "execution_count": 0,
      "outputs": []
    },
    {
      "metadata": {
        "id": "OVRc2rktmUDf",
        "colab_type": "code",
        "colab": {}
      },
      "cell_type": "code",
      "source": [
        "y = df[1]\n",
        "features = [2,3,4,5,6,7,8,9,10,11,12,13,14]\n",
        "x = df[features]"
      ],
      "execution_count": 0,
      "outputs": []
    },
    {
      "metadata": {
        "id": "b08kuD16mI7Y",
        "colab_type": "code",
        "colab": {}
      },
      "cell_type": "code",
      "source": [
        "arr = []\n",
        "for i in range(1, 51):\n",
        "    kfold = KFold(n_splits=5, shuffle=True, random_state=42)\n",
        "    model = KNeighborsClassifier(n_neighbors=i)\n",
        "    scores = cross_val_score(model, x, y, cv=kfold, scoring='accuracy')\n",
        "    arr.append(scores.mean())\n",
        "arr"
      ],
      "execution_count": 0,
      "outputs": []
    },
    {
      "metadata": {
        "id": "OXaKAWr-Oa4L",
        "colab_type": "code",
        "colab": {}
      },
      "cell_type": "code",
      "source": [
        "x = scale(x)\n",
        "arr = []\n",
        "for i in range(1, 31):\n",
        "    kfold = KFold(n_splits=5, shuffle=True, random_state=42)\n",
        "    model = KNeighborsClassifier(n_neighbors=i)\n",
        "    scores = cross_val_score(model, x, y, cv=kfold, scoring='accuracy')\n",
        "    arr.append(scores.mean())\n",
        "arr"
      ],
      "execution_count": 0,
      "outputs": []
    }
  ]
}