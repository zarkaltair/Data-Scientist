{
  "nbformat": 4,
  "nbformat_minor": 0,
  "metadata": {
    "colab": {
      "name": "final_test_logreg.ipynb",
      "version": "0.3.2",
      "provenance": [],
      "collapsed_sections": []
    },
    "kernelspec": {
      "name": "python3",
      "display_name": "Python 3"
    },
    "accelerator": "GPU"
  },
  "cells": [
    {
      "metadata": {
        "id": "qNN1Zvqb03dc",
        "colab_type": "code",
        "colab": {}
      },
      "cell_type": "code",
      "source": [
        "import pandas as pd\n",
        "import numpy as np\n",
        "from sklearn.model_selection import KFold, cross_val_score\n",
        "from sklearn.linear_model import LogisticRegression\n",
        "from sklearn.preprocessing import StandardScaler"
      ],
      "execution_count": 0,
      "outputs": []
    },
    {
      "metadata": {
        "id": "mfPzFNJF03dh",
        "colab_type": "code",
        "colab": {}
      },
      "cell_type": "code",
      "source": [
        "# pd.set_option('max_rows', None)\n",
        "df = pd.read_csv('features.csv', index_col='match_id')"
      ],
      "execution_count": 0,
      "outputs": []
    },
    {
      "metadata": {
        "id": "-9qKT14I03dl",
        "colab_type": "code",
        "colab": {
          "base_uri": "https://localhost:8080/",
          "height": 34
        },
        "outputId": "94092b0b-2894-445a-9b8f-99e32aebf48d"
      },
      "cell_type": "code",
      "source": [
        "df_test = pd.read_csv('features_test.csv', index_col='match_id')\n",
        "df_test.shape"
      ],
      "execution_count": 3,
      "outputs": [
        {
          "output_type": "execute_result",
          "data": {
            "text/plain": [
              "(17177, 102)"
            ]
          },
          "metadata": {
            "tags": []
          },
          "execution_count": 3
        }
      ]
    },
    {
      "metadata": {
        "id": "FQs9oCJm03ds",
        "colab_type": "code",
        "colab": {}
      },
      "cell_type": "code",
      "source": [
        "# passes have the following signs:\n",
        "passes = ['first_blood_time', 'first_blood_team', 'first_blood_player1', 'first_blood_player2', 'radiant_bottle_time', \n",
        "         'radiant_courier_time', 'radiant_flying_courier_time', 'radiant_first_ward_time', 'dire_bottle_time', \n",
        "         'dire_courier_time', 'dire_flying_courier_time', 'dire_first_ward_time']\n",
        "# 'first_blood_time' - time first kill\n",
        "# 'first_blood_team' - team which make first kill"
      ],
      "execution_count": 0,
      "outputs": []
    },
    {
      "metadata": {
        "id": "0o4YcobO03dw",
        "colab_type": "code",
        "colab": {}
      },
      "cell_type": "code",
      "source": [
        "df[passes] = df[passes].fillna(0)\n",
        "df_test[passes] = df_test[passes].fillna(0)"
      ],
      "execution_count": 0,
      "outputs": []
    },
    {
      "metadata": {
        "id": "bnZhBZHB03d1",
        "colab_type": "code",
        "colab": {
          "base_uri": "https://localhost:8080/",
          "height": 34
        },
        "outputId": "9c8670ff-7534-4b94-91fd-178258c0e36f"
      },
      "cell_type": "code",
      "source": [
        "# target variable\n",
        "y = df['radiant_win']\n",
        "X = df.drop(['radiant_win', 'duration', 'tower_status_radiant', 'tower_status_dire', \n",
        "             'barracks_status_radiant', 'barracks_status_dire'], axis=1)\n",
        "X.shape"
      ],
      "execution_count": 6,
      "outputs": [
        {
          "output_type": "execute_result",
          "data": {
            "text/plain": [
              "(97230, 102)"
            ]
          },
          "metadata": {
            "tags": []
          },
          "execution_count": 6
        }
      ]
    },
    {
      "metadata": {
        "id": "YdjL8eLR03d6",
        "colab_type": "code",
        "colab": {}
      },
      "cell_type": "code",
      "source": [
        "kfold = KFold(n_splits=5, shuffle=True, random_state=42)"
      ],
      "execution_count": 0,
      "outputs": []
    },
    {
      "metadata": {
        "id": "YL4CYAFd03d_",
        "colab_type": "code",
        "colab": {
          "base_uri": "https://localhost:8080/",
          "height": 139
        },
        "outputId": "70ce2362-ac79-482d-ca18-6df05af7b82e"
      },
      "cell_type": "code",
      "source": [
        "scaler = StandardScaler()\n",
        "X_train_scaler = scaler.fit_transform(X)\n",
        "X_test_scaler = scaler.transform(df_test)"
      ],
      "execution_count": 8,
      "outputs": [
        {
          "output_type": "stream",
          "text": [
            "/usr/local/lib/python3.6/dist-packages/sklearn/preprocessing/data.py:645: DataConversionWarning: Data with input dtype int64, float64 were all converted to float64 by StandardScaler.\n",
            "  return self.partial_fit(X, y)\n",
            "/usr/local/lib/python3.6/dist-packages/sklearn/base.py:464: DataConversionWarning: Data with input dtype int64, float64 were all converted to float64 by StandardScaler.\n",
            "  return self.fit(X, **fit_params).transform(X)\n",
            "/usr/local/lib/python3.6/dist-packages/ipykernel_launcher.py:3: DataConversionWarning: Data with input dtype int64, float64 were all converted to float64 by StandardScaler.\n",
            "  This is separate from the ipykernel package so we can avoid doing imports until\n"
          ],
          "name": "stderr"
        }
      ]
    },
    {
      "metadata": {
        "id": "ONlRWPay03eE",
        "colab_type": "code",
        "colab": {
          "base_uri": "https://localhost:8080/",
          "height": 34
        },
        "outputId": "e93259a9-2e44-4a68-a9ab-ed8ece092aa8"
      },
      "cell_type": "code",
      "source": [
        "logreg_model = LogisticRegression(penalty='l2', C=0.01, random_state=42, solver='lbfgs')\n",
        "logreg_model.fit(X_train_scaler, y)\n",
        "score = cross_val_score(logreg_model, X_train_scaler, y, cv=kfold, scoring='roc_auc')\n",
        "score.mean()\n",
        "# y_score = logreg_model.predict_proba(X_train_scaler)\n",
        "# scores = roc_auc_score(y, y_score[:, 1])\n",
        "# scores"
      ],
      "execution_count": 9,
      "outputs": [
        {
          "output_type": "execute_result",
          "data": {
            "text/plain": [
              "0.7165498862352037"
            ]
          },
          "metadata": {
            "tags": []
          },
          "execution_count": 9
        }
      ]
    },
    {
      "metadata": {
        "id": "JKDyf0NQ03eL",
        "colab_type": "code",
        "colab": {}
      },
      "cell_type": "code",
      "source": [
        "c_variables = ['lobby_type', 'r1_hero', 'r2_hero', 'r3_hero', 'r4_hero', 'r5_hero',\n",
        "               'd1_hero', 'd2_hero', 'd3_hero', 'd4_hero', 'd5_hero']\n",
        "X_train_cc = X.drop(c_variables, axis=1)\n",
        "X_test_cc = df_test.drop(c_variables, axis=1)"
      ],
      "execution_count": 0,
      "outputs": []
    },
    {
      "metadata": {
        "id": "iI4nRMd_03eQ",
        "colab_type": "code",
        "colab": {
          "base_uri": "https://localhost:8080/",
          "height": 139
        },
        "outputId": "5b4c6189-bfb8-4b40-822b-bb849645eb76"
      },
      "cell_type": "code",
      "source": [
        "X_train_scaler_cc = scaler.fit_transform(X_train_cc)\n",
        "X_test_scaler_cc = scaler.transform(X_test_cc)"
      ],
      "execution_count": 11,
      "outputs": [
        {
          "output_type": "stream",
          "text": [
            "/usr/local/lib/python3.6/dist-packages/sklearn/preprocessing/data.py:645: DataConversionWarning: Data with input dtype int64, float64 were all converted to float64 by StandardScaler.\n",
            "  return self.partial_fit(X, y)\n",
            "/usr/local/lib/python3.6/dist-packages/sklearn/base.py:464: DataConversionWarning: Data with input dtype int64, float64 were all converted to float64 by StandardScaler.\n",
            "  return self.fit(X, **fit_params).transform(X)\n",
            "/usr/local/lib/python3.6/dist-packages/ipykernel_launcher.py:2: DataConversionWarning: Data with input dtype int64, float64 were all converted to float64 by StandardScaler.\n",
            "  \n"
          ],
          "name": "stderr"
        }
      ]
    },
    {
      "metadata": {
        "id": "9gMMlZDN03eW",
        "colab_type": "code",
        "colab": {
          "base_uri": "https://localhost:8080/",
          "height": 34
        },
        "outputId": "c4acb885-6186-44b5-ee83-a9f16a27809e"
      },
      "cell_type": "code",
      "source": [
        "logreg_model_cc = LogisticRegression(penalty='l2', C=0.01, random_state=42, solver='lbfgs')\n",
        "logreg_model_cc.fit(X_train_scaler_cc, y)\n",
        "score_cc = cross_val_score(logreg_model_cc, X_train_scaler_cc, y, cv=kfold, scoring='roc_auc')\n",
        "score_cc.mean()"
      ],
      "execution_count": 12,
      "outputs": [
        {
          "output_type": "execute_result",
          "data": {
            "text/plain": [
              "0.7165592000076536"
            ]
          },
          "metadata": {
            "tags": []
          },
          "execution_count": 12
        }
      ]
    },
    {
      "metadata": {
        "id": "7ANM_AqH03ee",
        "colab_type": "code",
        "colab": {
          "base_uri": "https://localhost:8080/",
          "height": 34
        },
        "outputId": "ba038361-dbc6-4fb7-e9d8-52087b22909d"
      },
      "cell_type": "code",
      "source": [
        "heroes = pd.read_csv('heroes.csv')\n",
        "len(heroes)"
      ],
      "execution_count": 35,
      "outputs": [
        {
          "output_type": "execute_result",
          "data": {
            "text/plain": [
              "112"
            ]
          },
          "metadata": {
            "tags": []
          },
          "execution_count": 35
        }
      ]
    },
    {
      "metadata": {
        "id": "riVFqZIm03ei",
        "colab_type": "code",
        "colab": {}
      },
      "cell_type": "code",
      "source": [
        "X_pick = np.zeros((df.shape[0], len(heroes)))\n",
        "for i, match_id in enumerate(df.index):\n",
        "    for p in range(5):\n",
        "        X_pick[i, df.loc[match_id, 'r%d_hero' % (p+1)]-1] = 1\n",
        "        X_pick[i, df.loc[match_id, 'd%d_hero' % (p+1)]-1] = -1\n",
        "X_pick_df = pd.DataFrame(X_pick, index=X.index)"
      ],
      "execution_count": 0,
      "outputs": []
    },
    {
      "metadata": {
        "id": "T-LcHVkdhsXd",
        "colab_type": "code",
        "colab": {
          "base_uri": "https://localhost:8080/",
          "height": 34
        },
        "outputId": "8a0cdc00-65f1-4faa-d047-29ddfb28f9e8"
      },
      "cell_type": "code",
      "source": [
        "X_pick_df.shape"
      ],
      "execution_count": 15,
      "outputs": [
        {
          "output_type": "execute_result",
          "data": {
            "text/plain": [
              "(97230, 112)"
            ]
          },
          "metadata": {
            "tags": []
          },
          "execution_count": 15
        }
      ]
    },
    {
      "metadata": {
        "id": "OjLV_BBV6m3h",
        "colab_type": "code",
        "colab": {}
      },
      "cell_type": "code",
      "source": [
        "X_train_cc_scaler = pd.DataFrame(scaler.fit_transform(X_train_cc), index = X.index)\n",
        "X_concat = pd.concat([X_train_cc_scaler, X_pick_df], axis=1)"
      ],
      "execution_count": 0,
      "outputs": []
    },
    {
      "metadata": {
        "id": "dA1qRo5G8quy",
        "colab_type": "code",
        "colab": {
          "base_uri": "https://localhost:8080/",
          "height": 258
        },
        "outputId": "53f93c5c-66eb-4088-c386-c05c376db90e"
      },
      "cell_type": "code",
      "source": [
        "logreg_model_concat = LogisticRegression(penalty='l2', C=1.0, random_state=42, solver='lbfgs')\n",
        "logreg_model_concat.fit(X_concat, y)\n",
        "score_concat = cross_val_score(logreg_model_concat, X_concat, y, cv=kfold, scoring='roc_auc')\n",
        "score_concat.mean()"
      ],
      "execution_count": 24,
      "outputs": [
        {
          "output_type": "stream",
          "text": [
            "/usr/local/lib/python3.6/dist-packages/sklearn/linear_model/logistic.py:758: ConvergenceWarning: lbfgs failed to converge. Increase the number of iterations.\n",
            "  \"of iterations.\", ConvergenceWarning)\n",
            "/usr/local/lib/python3.6/dist-packages/sklearn/linear_model/logistic.py:758: ConvergenceWarning: lbfgs failed to converge. Increase the number of iterations.\n",
            "  \"of iterations.\", ConvergenceWarning)\n",
            "/usr/local/lib/python3.6/dist-packages/sklearn/linear_model/logistic.py:758: ConvergenceWarning: lbfgs failed to converge. Increase the number of iterations.\n",
            "  \"of iterations.\", ConvergenceWarning)\n",
            "/usr/local/lib/python3.6/dist-packages/sklearn/linear_model/logistic.py:758: ConvergenceWarning: lbfgs failed to converge. Increase the number of iterations.\n",
            "  \"of iterations.\", ConvergenceWarning)\n",
            "/usr/local/lib/python3.6/dist-packages/sklearn/linear_model/logistic.py:758: ConvergenceWarning: lbfgs failed to converge. Increase the number of iterations.\n",
            "  \"of iterations.\", ConvergenceWarning)\n",
            "/usr/local/lib/python3.6/dist-packages/sklearn/linear_model/logistic.py:758: ConvergenceWarning: lbfgs failed to converge. Increase the number of iterations.\n",
            "  \"of iterations.\", ConvergenceWarning)\n"
          ],
          "name": "stderr"
        },
        {
          "output_type": "execute_result",
          "data": {
            "text/plain": [
              "0.7519271656921548"
            ]
          },
          "metadata": {
            "tags": []
          },
          "execution_count": 24
        }
      ]
    },
    {
      "metadata": {
        "id": "AqU1G3o4wloM",
        "colab_type": "code",
        "colab": {}
      },
      "cell_type": "code",
      "source": [
        "X_pick_test = np.zeros((df_test.shape[0], len(heroes)))\n",
        "for i, match_id in enumerate(df_test.index):\n",
        "    for p in range(5):\n",
        "        X_pick_test[i, df_test.loc[match_id, 'r%d_hero' % (p+1)]-1] = 1\n",
        "        X_pick_test[i, df_test.loc[match_id, 'd%d_hero' % (p+1)]-1] = -1\n",
        "X_pick_test_df = pd.DataFrame(X_pick_test, index=df_test.index)"
      ],
      "execution_count": 0,
      "outputs": []
    },
    {
      "metadata": {
        "id": "sgUAPsAewETk",
        "colab_type": "code",
        "colab": {
          "base_uri": "https://localhost:8080/",
          "height": 105
        },
        "outputId": "bd7336f2-9909-47f6-e199-5a8a4f6de2f8"
      },
      "cell_type": "code",
      "source": [
        "X_test_cc_scaler = pd.DataFrame(scaler.fit_transform(X_test_cc), index = df_test.index)\n",
        "X_test_concat = pd.concat([X_test_cc_scaler, X_pick_test_df], axis=1)"
      ],
      "execution_count": 32,
      "outputs": [
        {
          "output_type": "stream",
          "text": [
            "/usr/local/lib/python3.6/dist-packages/sklearn/preprocessing/data.py:645: DataConversionWarning: Data with input dtype int64, float64 were all converted to float64 by StandardScaler.\n",
            "  return self.partial_fit(X, y)\n",
            "/usr/local/lib/python3.6/dist-packages/sklearn/base.py:464: DataConversionWarning: Data with input dtype int64, float64 were all converted to float64 by StandardScaler.\n",
            "  return self.fit(X, **fit_params).transform(X)\n"
          ],
          "name": "stderr"
        }
      ]
    },
    {
      "metadata": {
        "id": "fiq4Mpz6rioe",
        "colab_type": "code",
        "colab": {}
      },
      "cell_type": "code",
      "source": [
        "y_test = logreg_model_concat.predict_proba(X_test_concat)[:, 1]\n",
        "submission = pd.DataFrame({'radiant_win': y_test}, index=X_test_concat.index)\n",
        "submission.index.name = 'match_id'\n",
        "submission.to_csv('submission.csv', index=False)"
      ],
      "execution_count": 0,
      "outputs": []
    }
  ]
}