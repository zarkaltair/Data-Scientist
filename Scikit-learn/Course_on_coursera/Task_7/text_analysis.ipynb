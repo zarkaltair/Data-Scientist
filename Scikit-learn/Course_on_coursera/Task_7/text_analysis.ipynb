{
  "nbformat": 4,
  "nbformat_minor": 0,
  "metadata": {
    "colab": {
      "name": "text_analysis.ipynb",
      "version": "0.3.2",
      "provenance": [],
      "collapsed_sections": []
    },
    "kernelspec": {
      "name": "python3",
      "display_name": "Python 3"
    }
  },
  "cells": [
    {
      "metadata": {
        "id": "2GVbZksU389N",
        "colab_type": "code",
        "colab": {}
      },
      "cell_type": "code",
      "source": [
        "import pandas as pd\n",
        "import numpy as np\n",
        "from sklearn import datasets\n",
        "from sklearn.svm import SVC\n",
        "from sklearn.feature_extraction.text import TfidfVectorizer\n",
        "from sklearn.model_selection import GridSearchCV\n",
        "from sklearn.model_selection import KFold"
      ],
      "execution_count": 0,
      "outputs": []
    },
    {
      "metadata": {
        "id": "KngTbNcJ5x33",
        "colab_type": "code",
        "colab": {}
      },
      "cell_type": "code",
      "source": [
        "newsgroups = datasets.fetch_20newsgroups(\n",
        "                    subset='all', \n",
        "                    categories=['alt.atheism', 'sci.space'])"
      ],
      "execution_count": 0,
      "outputs": []
    },
    {
      "metadata": {
        "id": "i2qZuWA946HK",
        "colab_type": "code",
        "colab": {}
      },
      "cell_type": "code",
      "source": [
        "y = newsgroups.target\n",
        "x = newsgroups.data"
      ],
      "execution_count": 0,
      "outputs": []
    },
    {
      "metadata": {
        "id": "T-60j99B8XUA",
        "colab_type": "code",
        "colab": {}
      },
      "cell_type": "code",
      "source": [
        "vectorizer = TfidfVectorizer()\n",
        "x = vectorizer.fit_transform(x)"
      ],
      "execution_count": 0,
      "outputs": []
    },
    {
      "metadata": {
        "id": "2iESXgbl6uMo",
        "colab_type": "code",
        "colab": {
          "base_uri": "https://localhost:8080/",
          "height": 34
        },
        "outputId": "a6db10cb-be2e-4e1c-e717-972988e83748"
      },
      "cell_type": "code",
      "source": [
        "grid = {'C': np.power(10.0, np.arange(-5, 6))}\n",
        "cv = KFold(n_splits=5, shuffle=True, random_state=241)\n",
        "clf = SVC(kernel='linear', random_state=241)\n",
        "gs = GridSearchCV(clf, grid, scoring='accuracy', cv=cv)\n",
        "gs.fit(x, y)\n",
        "C = gs.best_params_.get('C')\n",
        "C"
      ],
      "execution_count": 68,
      "outputs": [
        {
          "output_type": "execute_result",
          "data": {
            "text/plain": [
              "1.0"
            ]
          },
          "metadata": {
            "tags": []
          },
          "execution_count": 68
        }
      ]
    },
    {
      "metadata": {
        "id": "L6bULnI36t9w",
        "colab_type": "code",
        "colab": {}
      },
      "cell_type": "code",
      "source": [
        "model = SVC(kernel='linear', random_state=241, C=C)\n",
        "model.fit(x, y)"
      ],
      "execution_count": 0,
      "outputs": []
    },
    {
      "metadata": {
        "id": "oKkh3FJn5F_x",
        "colab_type": "code",
        "colab": {
          "base_uri": "https://localhost:8080/",
          "height": 187
        },
        "outputId": "b36edcb6-0a74-42eb-852d-78f1e0701e29"
      },
      "cell_type": "code",
      "source": [
        "words = vectorizer.get_feature_names()\n",
        "coef = pd.DataFrame(model.coef_.data, model.coef_.indices)\n",
        "top_words = coef[0].map(lambda w: abs(w)).sort_values(ascending=False).head(10).index.map(lambda i: words[i])\n",
        "top = sorted(top_words)\n",
        "top"
      ],
      "execution_count": 85,
      "outputs": [
        {
          "output_type": "execute_result",
          "data": {
            "text/plain": [
              "['atheism',\n",
              " 'atheists',\n",
              " 'bible',\n",
              " 'god',\n",
              " 'keith',\n",
              " 'moon',\n",
              " 'religion',\n",
              " 'sci',\n",
              " 'sky',\n",
              " 'space']"
            ]
          },
          "metadata": {
            "tags": []
          },
          "execution_count": 85
        }
      ]
    }
  ]
}