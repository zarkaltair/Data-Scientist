{
 "cells": [
  {
   "cell_type": "code",
   "execution_count": 49,
   "metadata": {},
   "outputs": [],
   "source": [
    "import numpy as np\n",
    "import pandas as pd\n",
    "import matplotlib.pyplot as plt\n",
    "from numpy.linalg import inv\n",
    "from scipy import misc\n",
    "import imageio\n",
    "import PIL\n",
    "\n",
    "%precision 2\n",
    "%matplotlib inline"
   ]
  },
  {
   "cell_type": "code",
   "execution_count": 3,
   "metadata": {},
   "outputs": [],
   "source": [
    "vec_a = np.array([3, 2])\n",
    "vec_b = np.array([-6, 0])\n",
    "\n",
    "scalar = 3\n",
    "\n",
    "vec_3d = np.array([5, 5, 5])\n",
    "vec_4d = np.array([3, 0, 9, 1])\n",
    "vec_42d = np.linspace(-1.0, 1.0, num=42) # vector size 1x42"
   ]
  },
  {
   "cell_type": "code",
   "execution_count": 6,
   "metadata": {},
   "outputs": [
    {
     "data": {
      "text/plain": [
       "array([9, 2])"
      ]
     },
     "execution_count": 6,
     "metadata": {},
     "output_type": "execute_result"
    }
   ],
   "source": [
    "# Vector Subtrack\n",
    "vec_sub = vec_a - vec_b\n",
    "vec_sub"
   ]
  },
  {
   "cell_type": "code",
   "execution_count": 7,
   "metadata": {},
   "outputs": [
    {
     "data": {
      "text/plain": [
       "array([-3,  2])"
      ]
     },
     "execution_count": 7,
     "metadata": {},
     "output_type": "execute_result"
    }
   ],
   "source": [
    "# Vector Addition\n",
    "vec_sum = vec_a + vec_b\n",
    "vec_sum"
   ]
  },
  {
   "cell_type": "code",
   "execution_count": 8,
   "metadata": {},
   "outputs": [
    {
     "data": {
      "text/plain": [
       "-18"
      ]
     },
     "execution_count": 8,
     "metadata": {},
     "output_type": "execute_result"
    }
   ],
   "source": [
    "# Vector DotProduct\n",
    "vec_dot = np.dot(vec_a, vec_b)\n",
    "vec_dot"
   ]
  },
  {
   "cell_type": "code",
   "execution_count": 9,
   "metadata": {},
   "outputs": [
    {
     "data": {
      "text/plain": [
       "array([1.  , 0.67])"
      ]
     },
     "execution_count": 9,
     "metadata": {},
     "output_type": "execute_result"
    }
   ],
   "source": [
    "# Vector Divide\n",
    "vec_div = np.dot(vec_a, np.divide(1, 3))\n",
    "vec_div"
   ]
  },
  {
   "cell_type": "code",
   "execution_count": 14,
   "metadata": {},
   "outputs": [],
   "source": [
    "king_vec = np.array([1.7, 7.7])\n",
    "man_vec = np.array([1.8, 5.5])\n",
    "woman_vec = np.array([-1.8, 1.5])\n",
    "queen_vec = np.array([-1.9, 3.7])"
   ]
  },
  {
   "cell_type": "code",
   "execution_count": 19,
   "metadata": {},
   "outputs": [
    {
     "data": {
      "text/plain": [
       "array([False,  True])"
      ]
     },
     "execution_count": 19,
     "metadata": {},
     "output_type": "execute_result"
    }
   ],
   "source": [
    "queen = king_vec - man_vec + woman_vec\n",
    "queen == queen_vec"
   ]
  },
  {
   "cell_type": "code",
   "execution_count": 22,
   "metadata": {},
   "outputs": [
    {
     "data": {
      "text/html": [
       "<div>\n",
       "<style scoped>\n",
       "    .dataframe tbody tr th:only-of-type {\n",
       "        vertical-align: middle;\n",
       "    }\n",
       "\n",
       "    .dataframe tbody tr th {\n",
       "        vertical-align: top;\n",
       "    }\n",
       "\n",
       "    .dataframe thead th {\n",
       "        text-align: right;\n",
       "    }\n",
       "</style>\n",
       "<table border=\"1\" class=\"dataframe\">\n",
       "  <thead>\n",
       "    <tr style=\"text-align: right;\">\n",
       "      <th></th>\n",
       "      <th>Alex</th>\n",
       "      <th>Een</th>\n",
       "      <th>Marta</th>\n",
       "      <th>Bruce</th>\n",
       "      <th>Liza</th>\n",
       "      <th>Carl</th>\n",
       "    </tr>\n",
       "  </thead>\n",
       "  <tbody>\n",
       "    <tr>\n",
       "      <th>Poetry</th>\n",
       "      <td>0</td>\n",
       "      <td>1</td>\n",
       "      <td>0</td>\n",
       "      <td>1</td>\n",
       "      <td>1</td>\n",
       "      <td>0</td>\n",
       "    </tr>\n",
       "    <tr>\n",
       "      <th>Philosophy</th>\n",
       "      <td>1</td>\n",
       "      <td>0</td>\n",
       "      <td>1</td>\n",
       "      <td>0</td>\n",
       "      <td>0</td>\n",
       "      <td>1</td>\n",
       "    </tr>\n",
       "    <tr>\n",
       "      <th>Art</th>\n",
       "      <td>1</td>\n",
       "      <td>1</td>\n",
       "      <td>0</td>\n",
       "      <td>1</td>\n",
       "      <td>0</td>\n",
       "      <td>0</td>\n",
       "    </tr>\n",
       "    <tr>\n",
       "      <th>Conspiracy</th>\n",
       "      <td>0</td>\n",
       "      <td>0</td>\n",
       "      <td>1</td>\n",
       "      <td>1</td>\n",
       "      <td>0</td>\n",
       "      <td>1</td>\n",
       "    </tr>\n",
       "    <tr>\n",
       "      <th>Maths</th>\n",
       "      <td>1</td>\n",
       "      <td>0</td>\n",
       "      <td>1</td>\n",
       "      <td>0</td>\n",
       "      <td>1</td>\n",
       "      <td>0</td>\n",
       "    </tr>\n",
       "    <tr>\n",
       "      <th>Pron</th>\n",
       "      <td>0</td>\n",
       "      <td>0</td>\n",
       "      <td>0</td>\n",
       "      <td>1</td>\n",
       "      <td>1</td>\n",
       "      <td>0</td>\n",
       "    </tr>\n",
       "  </tbody>\n",
       "</table>\n",
       "</div>"
      ],
      "text/plain": [
       "            Alex  Een  Marta  Bruce  Liza  Carl\n",
       "Poetry         0    1      0      1     1     0\n",
       "Philosophy     1    0      1      0     0     1\n",
       "Art            1    1      0      1     0     0\n",
       "Conspiracy     0    0      1      1     0     1\n",
       "Maths          1    0      1      0     1     0\n",
       "Pron           0    0      0      1     1     0"
      ]
     },
     "execution_count": 22,
     "metadata": {},
     "output_type": "execute_result"
    }
   ],
   "source": [
    "d = {'Poetry':     [0, 1, 0, 1, 1, 0],\n",
    "     'Philosophy': [1, 0, 1, 0, 0, 1],\n",
    "     'Art':        [1, 1, 0, 1, 0, 0],\n",
    "     'Conspiracy': [0, 0, 1, 1, 0, 1],\n",
    "     'Maths':      [1, 0, 1, 0, 1, 0],\n",
    "     'Pron':       [0, 0, 0, 1, 1, 0]}\n",
    "data = pd.DataFrame(d, index=['Alex', 'Een', 'Marta', 'Bruce', 'Liza', 'Carl'])\n",
    "data.T"
   ]
  },
  {
   "cell_type": "code",
   "execution_count": 23,
   "metadata": {},
   "outputs": [],
   "source": [
    "# Matrix\n",
    "matrix = np.array([[5, 2, 1],\n",
    "                   [1, 3, 8],\n",
    "                   [7, 2, 6]])\n",
    "matrix_rel = np.array([[3, 9, 4],\n",
    "                       [1, 8, 3],\n",
    "                       [8, 5, 2]])"
   ]
  },
  {
   "cell_type": "code",
   "execution_count": 24,
   "metadata": {},
   "outputs": [
    {
     "data": {
      "text/plain": [
       "array([[ 2, -7, -3],\n",
       "       [ 0, -5,  5],\n",
       "       [-1, -3,  4]])"
      ]
     },
     "execution_count": 24,
     "metadata": {},
     "output_type": "execute_result"
    }
   ],
   "source": [
    "# Matrix Subtrack\n",
    "matrix_sub = matrix - matrix_rel\n",
    "matrix_sub"
   ]
  },
  {
   "cell_type": "code",
   "execution_count": 25,
   "metadata": {},
   "outputs": [
    {
     "data": {
      "text/plain": [
       "array([[ 8, 11,  5],\n",
       "       [ 2, 11, 11],\n",
       "       [15,  7,  8]])"
      ]
     },
     "execution_count": 25,
     "metadata": {},
     "output_type": "execute_result"
    }
   ],
   "source": [
    "# Matrix Addition\n",
    "matrix_rev = matrix + matrix_rel\n",
    "matrix_rev"
   ]
  },
  {
   "cell_type": "code",
   "execution_count": 26,
   "metadata": {},
   "outputs": [
    {
     "data": {
      "text/plain": [
       "array([[ 25,  66,  28],\n",
       "       [ 70,  73,  29],\n",
       "       [ 71, 109,  46]])"
      ]
     },
     "execution_count": 26,
     "metadata": {},
     "output_type": "execute_result"
    }
   ],
   "source": [
    "# Matirx DotProduct\n",
    "matrix_dot = np.dot(matrix, matrix_rel)\n",
    "matrix_dot"
   ]
  },
  {
   "cell_type": "code",
   "execution_count": 30,
   "metadata": {},
   "outputs": [],
   "source": [
    "# Matrix Non-Div\n",
    "matrix_sa_row = np.array([[1, 3, 7],\n",
    "                          [4, 5, 7],\n",
    "                          [1, 3, 7]])\n",
    "# non_invertable_matrix = inv(matrix_sa_row)\n",
    "# LinAlgError: Singular matrix"
   ]
  },
  {
   "cell_type": "code",
   "execution_count": 56,
   "metadata": {},
   "outputs": [
    {
     "data": {
      "image/png": "[encoded data removed]",
      "text/plain": [
       "<Figure size 432x288 with 1 Axes>"
      ]
     },
     "metadata": {
      "needs_background": "light"
     },
     "output_type": "display_data"
    }
   ],
   "source": [
    "face = imageio.imread('face.png')\n",
    "face_sized = np.array(PIL.Image.fromarray(face).resize([15, 15]))\n",
    "\n",
    "plt.grid(True)\n",
    "plt.imshow(face);\n",
    "\n",
    "# plt.imshow(face[:, :, 0], cmap=plt.cm.Reds_r);\n",
    "plt.imshow(face[:, :, 1], cmap=plt.cm.Greens_r);\n",
    "# plt.imshow(face[:, :, 2], cmap=plt.cm.Blues_r);"
   ]
  }
 ],
 "metadata": {
  "kernelspec": {
   "display_name": "Python 3",
   "language": "python",
   "name": "python3"
  },
  "language_info": {
   "codemirror_mode": {
    "name": "ipython",
    "version": 3
   },
   "file_extension": ".py",
   "mimetype": "text/x-python",
   "name": "python",
   "nbconvert_exporter": "python",
   "pygments_lexer": "ipython3",
   "version": "3.6.7"
  }
 },
 "nbformat": 4,
 "nbformat_minor": 2
}
