{
  "nbformat": 4,
  "nbformat_minor": 0,
  "metadata": {
    "colab": {
      "name": "Titanic_task_for_kaggle_v2.ipynb",
      "version": "0.3.2",
      "provenance": [],
      "collapsed_sections": []
    },
    "kernelspec": {
      "name": "python3",
      "display_name": "Python 3"
    }
  },
  "cells": [
    {
      "metadata": {
        "id": "MlXEaguh4w5y",
        "colab_type": "code",
        "colab": {}
      },
      "cell_type": "code",
      "source": [
        "import pandas as pd\n",
        "from sklearn.tree import DecisionTreeClassifier\n",
        "from sklearn.impute import SimpleImputer"
      ],
      "execution_count": 0,
      "outputs": []
    },
    {
      "metadata": {
        "id": "_Sw5OQfO44uj",
        "colab_type": "code",
        "colab": {}
      },
      "cell_type": "code",
      "source": [
        "train_data = 'train.csv'\n",
        "test_data = 'test.csv'\n",
        "train_df = pd.read_csv(train_data)\n",
        "test_df = pd.read_csv(test_data)"
      ],
      "execution_count": 0,
      "outputs": []
    },
    {
      "metadata": {
        "id": "tdm_j2lY47-w",
        "colab_type": "code",
        "colab": {}
      },
      "cell_type": "code",
      "source": [
        "y = train_df['Survived']\n",
        "x = train_df.drop(['Survived', 'PassengerId', 'Name', 'Ticket', 'Cabin'], axis=1)\n",
        "test_x = test_df.drop(['PassengerId', 'Name', 'Ticket', 'Cabin'], axis=1)"
      ],
      "execution_count": 0,
      "outputs": []
    },
    {
      "metadata": {
        "id": "nzefe9x_Inac",
        "colab_type": "code",
        "colab": {}
      },
      "cell_type": "code",
      "source": [
        "num_feat = x.select_dtypes('number').columns.values\n",
        "cat_feat = x.select_dtypes('object').columns.values\n",
        "x_num = x[num_feat]\n",
        "x_cat = x[cat_feat]\n",
        "\n",
        "x_num = (x_num - x_num.mean()) / x_num.std()\n",
        "x_num = x_num.fillna(x_num.mean())\n",
        "\n",
        "x_cat = pd.get_dummies(x_cat)\n",
        "\n",
        "x = pd.concat([x_num, x_cat], axis=1)"
      ],
      "execution_count": 0,
      "outputs": []
    },
    {
      "metadata": {
        "id": "StP7dmYMByxw",
        "colab_type": "code",
        "colab": {}
      },
      "cell_type": "code",
      "source": [
        "num_feat = test_x.select_dtypes('number').columns.values\n",
        "cat_feat = test_x.select_dtypes('object').columns.values\n",
        "test_x_num = test_x[num_feat]\n",
        "test_x_cat = test_x[cat_feat]\n",
        "\n",
        "test_x_num = (test_x_num - test_x_num.mean()) / test_x_num.std()\n",
        "test_x_num = test_x_num.fillna(test_x_num.mean())\n",
        "\n",
        "test_x_cat = pd.get_dummies(test_x_cat)\n",
        "\n",
        "test_x = pd.concat([test_x_num, test_x_cat], axis=1)"
      ],
      "execution_count": 0,
      "outputs": []
    },
    {
      "metadata": {
        "id": "sKYiBjSBFsIQ",
        "colab_type": "code",
        "colab": {}
      },
      "cell_type": "code",
      "source": [
        "dt = DecisionTreeClassifier(random_state=1)\n",
        "dt.fit(x, y)\n",
        "predictions = dt.predict(test_x)"
      ],
      "execution_count": 0,
      "outputs": []
    },
    {
      "metadata": {
        "id": "NWkn-IurPEwj",
        "colab_type": "code",
        "colab": {}
      },
      "cell_type": "code",
      "source": [
        "output = pd.DataFrame({'PassengerId': test_df.PassengerId,\n",
        "                       'Survived': predictions})\n",
        "output.to_csv('submission.csv', index=False)"
      ],
      "execution_count": 0,
      "outputs": []
    }
  ]
}