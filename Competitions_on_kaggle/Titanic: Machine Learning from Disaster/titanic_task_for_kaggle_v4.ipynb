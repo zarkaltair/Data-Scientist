{
 "cells": [
  {
   "cell_type": "code",
   "execution_count": 0,
   "metadata": {
    "colab": {},
    "colab_type": "code",
    "id": "Fi_toZq5_xen"
   },
   "outputs": [],
   "source": [
    "import pandas as pd\n",
    "from sklearn.impute import SimpleImputer\n",
    "from sklearn.model_selection import KFold, cross_val_score\n",
    "from sklearn.ensemble import RandomForestClassifier\n",
    "from sklearn.neighbors import KNeighborsClassifier\n",
    "from sklearn.tree import DecisionTreeClassifier\n",
    "from sklearn.svm import SVC\n",
    "from xgboost.sklearn import XGBClassifier"
   ]
  },
  {
   "cell_type": "code",
   "execution_count": 0,
   "metadata": {
    "colab": {},
    "colab_type": "code",
    "id": "eIdKM7288BsM"
   },
   "outputs": [],
   "source": [
    "from sklearn.preprocessing import OneHotEncoder, LabelEncoder\n",
    "from sklearn import feature_selection\n",
    "from sklearn import model_selection\n",
    "from sklearn import metrics\n",
    "\n",
    "pd.options.display.max_rows = 10\n",
    "pd.options.display.max_columns = 10\n",
    "pd.options.display.expand_frame_repr = False"
   ]
  },
  {
   "cell_type": "code",
   "execution_count": 0,
   "metadata": {
    "colab": {},
    "colab_type": "code",
    "id": "GABOr4r9ZA0W"
   },
   "outputs": [],
   "source": [
    "#Common Model Algorithms\n",
    "from sklearn import svm, tree, linear_model, neighbors, naive_bayes, ensemble, discriminant_analysis, gaussian_process\n",
    "from xgboost import XGBClassifier\n",
    "\n",
    "#Common Model Helpers\n",
    "from sklearn.preprocessing import OneHotEncoder, LabelEncoder\n",
    "from sklearn import feature_selection\n",
    "from sklearn import model_selection\n",
    "from sklearn import metrics"
   ]
  },
  {
   "cell_type": "code",
   "execution_count": 0,
   "metadata": {
    "colab": {},
    "colab_type": "code",
    "id": "Xy_uPkEuZ7RC"
   },
   "outputs": [],
   "source": [
    "#Visualization\n",
    "import matplotlib as mpl\n",
    "import matplotlib.pyplot as plt\n",
    "import matplotlib.pylab as pylab\n",
    "import seaborn as sns\n",
    "from pandas.tools.plotting import scatter_matrix\n",
    "\n",
    "#Configure Visualization Defaults\n",
    "#%matplotlib inline = show plots in Jupyter Notebook browser\n",
    "%matplotlib inline\n",
    "mpl.style.use('ggplot')\n",
    "sns.set_style('white')\n",
    "pylab.rcParams['figure.figsize'] = 12,8"
   ]
  },
  {
   "cell_type": "code",
   "execution_count": 0,
   "metadata": {
    "colab": {},
    "colab_type": "code",
    "id": "_S2FJGwfAKWQ"
   },
   "outputs": [],
   "source": [
    "train_df = pd.read_csv('train.csv')\n",
    "test_df = pd.read_csv('test.csv')"
   ]
  },
  {
   "cell_type": "code",
   "execution_count": 0,
   "metadata": {
    "colab": {},
    "colab_type": "code",
    "id": "R-4HDD_OAKit"
   },
   "outputs": [],
   "source": [
    "train_df['Sex'] = train_df['Sex'] == 'male'\n",
    "test_df['Sex'] = test_df['Sex'] == 'male'\n",
    "y = train_df['Survived'].values\n",
    "features = ['Pclass', 'Age', 'Fare', 'SibSp', 'Parch', 'Sex']\n",
    "x = train_df[features].values\n",
    "test_x = test_df[features].values"
   ]
  },
  {
   "cell_type": "code",
   "execution_count": 0,
   "metadata": {
    "colab": {},
    "colab_type": "code",
    "id": "f5QYgvGvAOEF"
   },
   "outputs": [],
   "source": [
    "my_imputer = SimpleImputer()\n",
    "x = my_imputer.fit_transform(x)\n",
    "test_x = my_imputer.transform(test_x)"
   ]
  },
  {
   "cell_type": "code",
   "execution_count": 35,
   "metadata": {
    "colab": {
     "base_uri": "https://localhost:8080/",
     "height": 513
    },
    "colab_type": "code",
    "id": "DHNJjjSt74RA",
    "outputId": "b3868574-7443-4155-b156-82b585455728"
   },
   "outputs": [
    {
     "data": {
      "text/plain": [
       "[     PassengerId  Survived  Pclass                                               Name     Sex    ...     Parch            Ticket     Fare Cabin  Embarked\n",
       " 0              1         0       3                            Braund, Mr. Owen Harris    male    ...         0         A/5 21171   7.2500   NaN         S\n",
       " 1              2         1       1  Cumings, Mrs. John Bradley (Florence Briggs Th...  female    ...         0          PC 17599  71.2833   C85         C\n",
       " 2              3         1       3                             Heikkinen, Miss. Laina  female    ...         0  STON/O2. 3101282   7.9250   NaN         S\n",
       " 3              4         1       1       Futrelle, Mrs. Jacques Heath (Lily May Peel)  female    ...         0            113803  53.1000  C123         S\n",
       " 4              5         0       3                           Allen, Mr. William Henry    male    ...         0            373450   8.0500   NaN         S\n",
       " ..           ...       ...     ...                                                ...     ...    ...       ...               ...      ...   ...       ...\n",
       " 886          887         0       2                              Montvila, Rev. Juozas    male    ...         0            211536  13.0000   NaN         S\n",
       " 887          888         1       1                       Graham, Miss. Margaret Edith  female    ...         0            112053  30.0000   B42         S\n",
       " 888          889         0       3           Johnston, Miss. Catherine Helen \"Carrie\"  female    ...         2        W./C. 6607  23.4500   NaN         S\n",
       " 889          890         1       1                              Behr, Mr. Karl Howell    male    ...         0            111369  30.0000  C148         C\n",
       " 890          891         0       3                                Dooley, Mr. Patrick    male    ...         0            370376   7.7500   NaN         Q\n",
       " \n",
       " [891 rows x 12 columns],\n",
       "      PassengerId  Pclass                                          Name     Sex   Age   ...     Parch              Ticket      Fare  Cabin Embarked\n",
       " 0            892       3                              Kelly, Mr. James    male  34.5   ...         0              330911    7.8292    NaN        Q\n",
       " 1            893       3              Wilkes, Mrs. James (Ellen Needs)  female  47.0   ...         0              363272    7.0000    NaN        S\n",
       " 2            894       2                     Myles, Mr. Thomas Francis    male  62.0   ...         0              240276    9.6875    NaN        Q\n",
       " 3            895       3                              Wirz, Mr. Albert    male  27.0   ...         0              315154    8.6625    NaN        S\n",
       " 4            896       3  Hirvonen, Mrs. Alexander (Helga E Lindqvist)  female  22.0   ...         1             3101298   12.2875    NaN        S\n",
       " ..           ...     ...                                           ...     ...   ...   ...       ...                 ...       ...    ...      ...\n",
       " 413         1305       3                            Spector, Mr. Woolf    male   NaN   ...         0           A.5. 3236    8.0500    NaN        S\n",
       " 414         1306       1                  Oliva y Ocana, Dona. Fermina  female  39.0   ...         0            PC 17758  108.9000   C105        C\n",
       " 415         1307       3                  Saether, Mr. Simon Sivertsen    male  38.5   ...         0  SOTON/O.Q. 3101262    7.2500    NaN        S\n",
       " 416         1308       3                           Ware, Mr. Frederick    male   NaN   ...         0              359309    8.0500    NaN        S\n",
       " 417         1309       3                      Peter, Master. Michael J    male   NaN   ...         1                2668   22.3583    NaN        C\n",
       " \n",
       " [418 rows x 11 columns]]"
      ]
     },
     "execution_count": 35,
     "metadata": {
      "tags": []
     },
     "output_type": "execute_result"
    }
   ],
   "source": [
    "data_raw = pd.read_csv('train.csv')\n",
    "data_val = pd.read_csv('test.csv')\n",
    "data1 = data_raw.copy(deep = True)#.drop(['Survived'], 1)\n",
    "data_cleaner = [data1, data_val]\n",
    "data_cleaner"
   ]
  },
  {
   "cell_type": "code",
   "execution_count": 0,
   "metadata": {
    "colab": {},
    "colab_type": "code",
    "id": "oN1T2fbO56-I"
   },
   "outputs": [],
   "source": [
    "for dataset in data_cleaner:\n",
    "    dataset['Age'].fillna(dataset['Age'].median(), inplace = True)\n",
    "    dataset['Embarked'].fillna(dataset['Embarked'].mode()[0], inplace = True)\n",
    "    dataset['Fare'].fillna(dataset['Fare'].median(), inplace = True)"
   ]
  },
  {
   "cell_type": "code",
   "execution_count": 0,
   "metadata": {
    "colab": {},
    "colab_type": "code",
    "id": "hI7R0TiJ7lhi"
   },
   "outputs": [],
   "source": [
    "data1.drop(['PassengerId','Cabin', 'Ticket'], axis=1, inplace = True)"
   ]
  },
  {
   "cell_type": "code",
   "execution_count": 38,
   "metadata": {
    "colab": {
     "base_uri": "https://localhost:8080/",
     "height": 598
    },
    "colab_type": "code",
    "id": "4W-4_0FP7lX9",
    "outputId": "f6e77180-9f9f-41e3-ffb6-c4b7f3a6c73a"
   },
   "outputs": [
    {
     "name": "stderr",
     "output_type": "stream",
     "text": [
      "/usr/local/lib/python3.6/dist-packages/pandas/core/indexing.py:194: SettingWithCopyWarning: \n",
      "A value is trying to be set on a copy of a slice from a DataFrame\n",
      "\n",
      "See the caveats in the documentation: http://pandas.pydata.org/pandas-docs/stable/indexing.html#indexing-view-versus-copy\n",
      "  self._setitem_with_indexer(indexer, value)\n"
     ]
    },
    {
     "data": {
      "text/plain": [
       "[     Survived  Pclass                                               Name     Sex   Age      ...       FamilySize  IsAlone  Title          FareBin        AgeBin\n",
       " 0           0       3                            Braund, Mr. Owen Harris    male  22.0      ...                2        0     Mr   (-0.001, 7.91]  (16.0, 32.0]\n",
       " 1           1       1  Cumings, Mrs. John Bradley (Florence Briggs Th...  female  38.0      ...                2        0    Mrs  (31.0, 512.329]  (32.0, 48.0]\n",
       " 2           1       3                             Heikkinen, Miss. Laina  female  26.0      ...                1        1   Miss   (7.91, 14.454]  (16.0, 32.0]\n",
       " 3           1       1       Futrelle, Mrs. Jacques Heath (Lily May Peel)  female  35.0      ...                2        0    Mrs  (31.0, 512.329]  (32.0, 48.0]\n",
       " 4           0       3                           Allen, Mr. William Henry    male  35.0      ...                1        1     Mr   (7.91, 14.454]  (32.0, 48.0]\n",
       " ..        ...     ...                                                ...     ...   ...      ...              ...      ...    ...              ...           ...\n",
       " 886         0       2                              Montvila, Rev. Juozas    male  27.0      ...                1        1    Rev   (7.91, 14.454]  (16.0, 32.0]\n",
       " 887         1       1                       Graham, Miss. Margaret Edith  female  19.0      ...                1        1   Miss   (14.454, 31.0]  (16.0, 32.0]\n",
       " 888         0       3           Johnston, Miss. Catherine Helen \"Carrie\"  female  28.0      ...                4        0   Miss   (14.454, 31.0]  (16.0, 32.0]\n",
       " 889         1       1                              Behr, Mr. Karl Howell    male  26.0      ...                1        1     Mr   (14.454, 31.0]  (16.0, 32.0]\n",
       " 890         0       3                                Dooley, Mr. Patrick    male  32.0      ...                1        1     Mr   (-0.001, 7.91]  (16.0, 32.0]\n",
       " \n",
       " [891 rows x 14 columns],\n",
       "      PassengerId  Pclass                                          Name     Sex   Age      ...       FamilySize  IsAlone   Title            FareBin        AgeBin\n",
       " 0            892       3                              Kelly, Mr. James    male  34.5      ...                1        1      Mr    (-0.001, 7.896]  (30.4, 45.6]\n",
       " 1            893       3              Wilkes, Mrs. James (Ellen Needs)  female  47.0      ...                2        0     Mrs    (-0.001, 7.896]  (45.6, 60.8]\n",
       " 2            894       2                     Myles, Mr. Thomas Francis    male  62.0      ...                1        1      Mr    (7.896, 14.454]  (60.8, 76.0]\n",
       " 3            895       3                              Wirz, Mr. Albert    male  27.0      ...                1        1      Mr    (7.896, 14.454]  (15.2, 30.4]\n",
       " 4            896       3  Hirvonen, Mrs. Alexander (Helga E Lindqvist)  female  22.0      ...                3        0     Mrs    (7.896, 14.454]  (15.2, 30.4]\n",
       " ..           ...     ...                                           ...     ...   ...      ...              ...      ...     ...                ...           ...\n",
       " 413         1305       3                            Spector, Mr. Woolf    male  27.0      ...                1        1      Mr    (7.896, 14.454]  (15.2, 30.4]\n",
       " 414         1306       1                  Oliva y Ocana, Dona. Fermina  female  39.0      ...                1        1    Dona  (31.472, 512.329]  (30.4, 45.6]\n",
       " 415         1307       3                  Saether, Mr. Simon Sivertsen    male  38.5      ...                1        1      Mr    (-0.001, 7.896]  (30.4, 45.6]\n",
       " 416         1308       3                           Ware, Mr. Frederick    male  27.0      ...                1        1      Mr    (7.896, 14.454]  (15.2, 30.4]\n",
       " 417         1309       3                      Peter, Master. Michael J    male  27.0      ...                3        0  Master   (14.454, 31.472]  (15.2, 30.4]\n",
       " \n",
       " [418 rows x 16 columns]]"
      ]
     },
     "execution_count": 38,
     "metadata": {
      "tags": []
     },
     "output_type": "execute_result"
    }
   ],
   "source": [
    "for dataset in data_cleaner:\n",
    "    dataset['FamilySize'] = dataset ['SibSp'] + dataset['Parch'] + 1\n",
    "    dataset['IsAlone'] = 1 #initialize to yes/1 is alone\n",
    "    dataset['IsAlone'].loc[dataset['FamilySize'] > 1] = 0\n",
    "    dataset['Title'] = dataset['Name'].str.split(\", \", expand=True)[1].str.split(\".\", expand=True)[0]\n",
    "    dataset['FareBin'] = pd.qcut(dataset['Fare'], 4)\n",
    "    dataset['AgeBin'] = pd.cut(dataset['Age'].astype(int), 5)\n",
    "data_cleaner"
   ]
  },
  {
   "cell_type": "code",
   "execution_count": 39,
   "metadata": {
    "colab": {
     "base_uri": "https://localhost:8080/",
     "height": 589
    },
    "colab_type": "code",
    "id": "nr5YD_S_7lOv",
    "outputId": "b83c2dcf-bc75-4c71-e0a3-12382d6b2fbe"
   },
   "outputs": [
    {
     "data": {
      "text/html": [
       "<div>\n",
       "<style scoped>\n",
       "    .dataframe tbody tr th:only-of-type {\n",
       "        vertical-align: middle;\n",
       "    }\n",
       "\n",
       "    .dataframe tbody tr th {\n",
       "        vertical-align: top;\n",
       "    }\n",
       "\n",
       "    .dataframe thead th {\n",
       "        text-align: right;\n",
       "    }\n",
       "</style>\n",
       "<table border=\"1\" class=\"dataframe\">\n",
       "  <thead>\n",
       "    <tr style=\"text-align: right;\">\n",
       "      <th></th>\n",
       "      <th>Survived</th>\n",
       "      <th>Pclass</th>\n",
       "      <th>Name</th>\n",
       "      <th>Sex</th>\n",
       "      <th>Age</th>\n",
       "      <th>...</th>\n",
       "      <th>FamilySize</th>\n",
       "      <th>IsAlone</th>\n",
       "      <th>Title</th>\n",
       "      <th>FareBin</th>\n",
       "      <th>AgeBin</th>\n",
       "    </tr>\n",
       "  </thead>\n",
       "  <tbody>\n",
       "    <tr>\n",
       "      <th>0</th>\n",
       "      <td>0</td>\n",
       "      <td>3</td>\n",
       "      <td>Braund, Mr. Owen Harris</td>\n",
       "      <td>male</td>\n",
       "      <td>22.0</td>\n",
       "      <td>...</td>\n",
       "      <td>2</td>\n",
       "      <td>0</td>\n",
       "      <td>Mr</td>\n",
       "      <td>(-0.001, 7.91]</td>\n",
       "      <td>(16.0, 32.0]</td>\n",
       "    </tr>\n",
       "    <tr>\n",
       "      <th>1</th>\n",
       "      <td>1</td>\n",
       "      <td>1</td>\n",
       "      <td>Cumings, Mrs. John Bradley (Florence Briggs Th...</td>\n",
       "      <td>female</td>\n",
       "      <td>38.0</td>\n",
       "      <td>...</td>\n",
       "      <td>2</td>\n",
       "      <td>0</td>\n",
       "      <td>Mrs</td>\n",
       "      <td>(31.0, 512.329]</td>\n",
       "      <td>(32.0, 48.0]</td>\n",
       "    </tr>\n",
       "    <tr>\n",
       "      <th>2</th>\n",
       "      <td>1</td>\n",
       "      <td>3</td>\n",
       "      <td>Heikkinen, Miss. Laina</td>\n",
       "      <td>female</td>\n",
       "      <td>26.0</td>\n",
       "      <td>...</td>\n",
       "      <td>1</td>\n",
       "      <td>1</td>\n",
       "      <td>Miss</td>\n",
       "      <td>(7.91, 14.454]</td>\n",
       "      <td>(16.0, 32.0]</td>\n",
       "    </tr>\n",
       "    <tr>\n",
       "      <th>3</th>\n",
       "      <td>1</td>\n",
       "      <td>1</td>\n",
       "      <td>Futrelle, Mrs. Jacques Heath (Lily May Peel)</td>\n",
       "      <td>female</td>\n",
       "      <td>35.0</td>\n",
       "      <td>...</td>\n",
       "      <td>2</td>\n",
       "      <td>0</td>\n",
       "      <td>Mrs</td>\n",
       "      <td>(31.0, 512.329]</td>\n",
       "      <td>(32.0, 48.0]</td>\n",
       "    </tr>\n",
       "    <tr>\n",
       "      <th>4</th>\n",
       "      <td>0</td>\n",
       "      <td>3</td>\n",
       "      <td>Allen, Mr. William Henry</td>\n",
       "      <td>male</td>\n",
       "      <td>35.0</td>\n",
       "      <td>...</td>\n",
       "      <td>1</td>\n",
       "      <td>1</td>\n",
       "      <td>Mr</td>\n",
       "      <td>(7.91, 14.454]</td>\n",
       "      <td>(32.0, 48.0]</td>\n",
       "    </tr>\n",
       "    <tr>\n",
       "      <th>...</th>\n",
       "      <td>...</td>\n",
       "      <td>...</td>\n",
       "      <td>...</td>\n",
       "      <td>...</td>\n",
       "      <td>...</td>\n",
       "      <td>...</td>\n",
       "      <td>...</td>\n",
       "      <td>...</td>\n",
       "      <td>...</td>\n",
       "      <td>...</td>\n",
       "      <td>...</td>\n",
       "    </tr>\n",
       "    <tr>\n",
       "      <th>886</th>\n",
       "      <td>0</td>\n",
       "      <td>2</td>\n",
       "      <td>Montvila, Rev. Juozas</td>\n",
       "      <td>male</td>\n",
       "      <td>27.0</td>\n",
       "      <td>...</td>\n",
       "      <td>1</td>\n",
       "      <td>1</td>\n",
       "      <td>Misc</td>\n",
       "      <td>(7.91, 14.454]</td>\n",
       "      <td>(16.0, 32.0]</td>\n",
       "    </tr>\n",
       "    <tr>\n",
       "      <th>887</th>\n",
       "      <td>1</td>\n",
       "      <td>1</td>\n",
       "      <td>Graham, Miss. Margaret Edith</td>\n",
       "      <td>female</td>\n",
       "      <td>19.0</td>\n",
       "      <td>...</td>\n",
       "      <td>1</td>\n",
       "      <td>1</td>\n",
       "      <td>Miss</td>\n",
       "      <td>(14.454, 31.0]</td>\n",
       "      <td>(16.0, 32.0]</td>\n",
       "    </tr>\n",
       "    <tr>\n",
       "      <th>888</th>\n",
       "      <td>0</td>\n",
       "      <td>3</td>\n",
       "      <td>Johnston, Miss. Catherine Helen \"Carrie\"</td>\n",
       "      <td>female</td>\n",
       "      <td>28.0</td>\n",
       "      <td>...</td>\n",
       "      <td>4</td>\n",
       "      <td>0</td>\n",
       "      <td>Miss</td>\n",
       "      <td>(14.454, 31.0]</td>\n",
       "      <td>(16.0, 32.0]</td>\n",
       "    </tr>\n",
       "    <tr>\n",
       "      <th>889</th>\n",
       "      <td>1</td>\n",
       "      <td>1</td>\n",
       "      <td>Behr, Mr. Karl Howell</td>\n",
       "      <td>male</td>\n",
       "      <td>26.0</td>\n",
       "      <td>...</td>\n",
       "      <td>1</td>\n",
       "      <td>1</td>\n",
       "      <td>Mr</td>\n",
       "      <td>(14.454, 31.0]</td>\n",
       "      <td>(16.0, 32.0]</td>\n",
       "    </tr>\n",
       "    <tr>\n",
       "      <th>890</th>\n",
       "      <td>0</td>\n",
       "      <td>3</td>\n",
       "      <td>Dooley, Mr. Patrick</td>\n",
       "      <td>male</td>\n",
       "      <td>32.0</td>\n",
       "      <td>...</td>\n",
       "      <td>1</td>\n",
       "      <td>1</td>\n",
       "      <td>Mr</td>\n",
       "      <td>(-0.001, 7.91]</td>\n",
       "      <td>(16.0, 32.0]</td>\n",
       "    </tr>\n",
       "  </tbody>\n",
       "</table>\n",
       "<p>891 rows × 14 columns</p>\n",
       "</div>"
      ],
      "text/plain": [
       "     Survived  Pclass                                               Name     Sex   Age      ...       FamilySize  IsAlone  Title          FareBin        AgeBin\n",
       "0           0       3                            Braund, Mr. Owen Harris    male  22.0      ...                2        0     Mr   (-0.001, 7.91]  (16.0, 32.0]\n",
       "1           1       1  Cumings, Mrs. John Bradley (Florence Briggs Th...  female  38.0      ...                2        0    Mrs  (31.0, 512.329]  (32.0, 48.0]\n",
       "2           1       3                             Heikkinen, Miss. Laina  female  26.0      ...                1        1   Miss   (7.91, 14.454]  (16.0, 32.0]\n",
       "3           1       1       Futrelle, Mrs. Jacques Heath (Lily May Peel)  female  35.0      ...                2        0    Mrs  (31.0, 512.329]  (32.0, 48.0]\n",
       "4           0       3                           Allen, Mr. William Henry    male  35.0      ...                1        1     Mr   (7.91, 14.454]  (32.0, 48.0]\n",
       "..        ...     ...                                                ...     ...   ...      ...              ...      ...    ...              ...           ...\n",
       "886         0       2                              Montvila, Rev. Juozas    male  27.0      ...                1        1   Misc   (7.91, 14.454]  (16.0, 32.0]\n",
       "887         1       1                       Graham, Miss. Margaret Edith  female  19.0      ...                1        1   Miss   (14.454, 31.0]  (16.0, 32.0]\n",
       "888         0       3           Johnston, Miss. Catherine Helen \"Carrie\"  female  28.0      ...                4        0   Miss   (14.454, 31.0]  (16.0, 32.0]\n",
       "889         1       1                              Behr, Mr. Karl Howell    male  26.0      ...                1        1     Mr   (14.454, 31.0]  (16.0, 32.0]\n",
       "890         0       3                                Dooley, Mr. Patrick    male  32.0      ...                1        1     Mr   (-0.001, 7.91]  (16.0, 32.0]\n",
       "\n",
       "[891 rows x 14 columns]"
      ]
     },
     "execution_count": 39,
     "metadata": {
      "tags": []
     },
     "output_type": "execute_result"
    }
   ],
   "source": [
    "stat_min = 10\n",
    "title_names = (data1['Title'].value_counts() < stat_min)\n",
    "data1['Title'] = data1['Title'].apply(lambda x: 'Misc' if title_names.loc[x] == True else x)\n",
    "data1"
   ]
  },
  {
   "cell_type": "code",
   "execution_count": 40,
   "metadata": {
    "colab": {
     "base_uri": "https://localhost:8080/",
     "height": 513
    },
    "colab_type": "code",
    "id": "pHgxqfHo95Le",
    "outputId": "5bf40740-1606-465b-ddd6-3e4143e76ceb"
   },
   "outputs": [
    {
     "data": {
      "text/plain": [
       "[     Survived  Pclass                                               Name     Sex   Age      ...       Sex_Code  Embarked_Code  Title_Code AgeBin_Code  FareBin_Code\n",
       " 0           0       3                            Braund, Mr. Owen Harris    male  22.0      ...              1              2           3           1             0\n",
       " 1           1       1  Cumings, Mrs. John Bradley (Florence Briggs Th...  female  38.0      ...              0              0           4           2             3\n",
       " 2           1       3                             Heikkinen, Miss. Laina  female  26.0      ...              0              2           2           1             1\n",
       " 3           1       1       Futrelle, Mrs. Jacques Heath (Lily May Peel)  female  35.0      ...              0              2           4           2             3\n",
       " 4           0       3                           Allen, Mr. William Henry    male  35.0      ...              1              2           3           2             1\n",
       " ..        ...     ...                                                ...     ...   ...      ...            ...            ...         ...         ...           ...\n",
       " 886         0       2                              Montvila, Rev. Juozas    male  27.0      ...              1              2           1           1             1\n",
       " 887         1       1                       Graham, Miss. Margaret Edith  female  19.0      ...              0              2           2           1             2\n",
       " 888         0       3           Johnston, Miss. Catherine Helen \"Carrie\"  female  28.0      ...              0              2           2           1             2\n",
       " 889         1       1                              Behr, Mr. Karl Howell    male  26.0      ...              1              0           3           1             2\n",
       " 890         0       3                                Dooley, Mr. Patrick    male  32.0      ...              1              1           3           1             0\n",
       " \n",
       " [891 rows x 19 columns],\n",
       "      PassengerId  Pclass                                          Name     Sex   Age     ...       Sex_Code  Embarked_Code Title_Code  AgeBin_Code FareBin_Code\n",
       " 0            892       3                              Kelly, Mr. James    male  34.5     ...              1              1          5            2            0\n",
       " 1            893       3              Wilkes, Mrs. James (Ellen Needs)  female  47.0     ...              0              2          6            3            0\n",
       " 2            894       2                     Myles, Mr. Thomas Francis    male  62.0     ...              1              1          5            4            1\n",
       " 3            895       3                              Wirz, Mr. Albert    male  27.0     ...              1              2          5            1            1\n",
       " 4            896       3  Hirvonen, Mrs. Alexander (Helga E Lindqvist)  female  22.0     ...              0              2          6            1            1\n",
       " ..           ...     ...                                           ...     ...   ...     ...            ...            ...        ...          ...          ...\n",
       " 413         1305       3                            Spector, Mr. Woolf    male  27.0     ...              1              2          5            1            1\n",
       " 414         1306       1                  Oliva y Ocana, Dona. Fermina  female  39.0     ...              0              0          1            2            3\n",
       " 415         1307       3                  Saether, Mr. Simon Sivertsen    male  38.5     ...              1              2          5            2            0\n",
       " 416         1308       3                           Ware, Mr. Frederick    male  27.0     ...              1              2          5            1            1\n",
       " 417         1309       3                      Peter, Master. Michael J    male  27.0     ...              1              0          3            1            2\n",
       " \n",
       " [418 rows x 21 columns]]"
      ]
     },
     "execution_count": 40,
     "metadata": {
      "tags": []
     },
     "output_type": "execute_result"
    }
   ],
   "source": [
    "label = LabelEncoder()\n",
    "for dataset in data_cleaner:    \n",
    "    dataset['Sex_Code'] = label.fit_transform(dataset['Sex'])\n",
    "    dataset['Embarked_Code'] = label.fit_transform(dataset['Embarked'])\n",
    "    dataset['Title_Code'] = label.fit_transform(dataset['Title'])\n",
    "    dataset['AgeBin_Code'] = label.fit_transform(dataset['AgeBin'])\n",
    "    dataset['FareBin_Code'] = label.fit_transform(dataset['FareBin'])\n",
    "data_cleaner"
   ]
  },
  {
   "cell_type": "code",
   "execution_count": 0,
   "metadata": {
    "colab": {},
    "colab_type": "code",
    "id": "TUIiqIEKWDba"
   },
   "outputs": [],
   "source": [
    "Target = ['Survived']\n",
    "\n",
    "data1_x = ['Sex','Pclass', 'Embarked', 'Title','SibSp', 'Parch', 'Age', 'Fare', 'FamilySize', 'IsAlone']\n",
    "data1_x_calc = ['Sex_Code','Pclass', 'Embarked_Code', 'Title_Code','SibSp', 'Parch', 'Age', 'Fare']\n",
    "data1_xy =  Target + data1_x\n",
    "\n",
    "data1_x_bin = ['Sex_Code','Pclass', 'Embarked_Code', 'Title_Code', 'FamilySize', 'AgeBin_Code', 'FareBin_Code']\n",
    "data1_xy_bin = Target + data1_x_bin"
   ]
  },
  {
   "cell_type": "code",
   "execution_count": 42,
   "metadata": {
    "colab": {
     "base_uri": "https://localhost:8080/",
     "height": 233
    },
    "colab_type": "code",
    "id": "CtTk9X1-62ev",
    "outputId": "c4dac8ee-6138-4494-e042-9e981fa22731"
   },
   "outputs": [
    {
     "data": {
      "text/html": [
       "<div>\n",
       "<style scoped>\n",
       "    .dataframe tbody tr th:only-of-type {\n",
       "        vertical-align: middle;\n",
       "    }\n",
       "\n",
       "    .dataframe tbody tr th {\n",
       "        vertical-align: top;\n",
       "    }\n",
       "\n",
       "    .dataframe thead th {\n",
       "        text-align: right;\n",
       "    }\n",
       "</style>\n",
       "<table border=\"1\" class=\"dataframe\">\n",
       "  <thead>\n",
       "    <tr style=\"text-align: right;\">\n",
       "      <th></th>\n",
       "      <th>Pclass</th>\n",
       "      <th>SibSp</th>\n",
       "      <th>Parch</th>\n",
       "      <th>Age</th>\n",
       "      <th>Fare</th>\n",
       "      <th>...</th>\n",
       "      <th>Title_Master</th>\n",
       "      <th>Title_Misc</th>\n",
       "      <th>Title_Miss</th>\n",
       "      <th>Title_Mr</th>\n",
       "      <th>Title_Mrs</th>\n",
       "    </tr>\n",
       "  </thead>\n",
       "  <tbody>\n",
       "    <tr>\n",
       "      <th>0</th>\n",
       "      <td>3</td>\n",
       "      <td>1</td>\n",
       "      <td>0</td>\n",
       "      <td>22.0</td>\n",
       "      <td>7.2500</td>\n",
       "      <td>...</td>\n",
       "      <td>0</td>\n",
       "      <td>0</td>\n",
       "      <td>0</td>\n",
       "      <td>1</td>\n",
       "      <td>0</td>\n",
       "    </tr>\n",
       "    <tr>\n",
       "      <th>1</th>\n",
       "      <td>1</td>\n",
       "      <td>1</td>\n",
       "      <td>0</td>\n",
       "      <td>38.0</td>\n",
       "      <td>71.2833</td>\n",
       "      <td>...</td>\n",
       "      <td>0</td>\n",
       "      <td>0</td>\n",
       "      <td>0</td>\n",
       "      <td>0</td>\n",
       "      <td>1</td>\n",
       "    </tr>\n",
       "    <tr>\n",
       "      <th>2</th>\n",
       "      <td>3</td>\n",
       "      <td>0</td>\n",
       "      <td>0</td>\n",
       "      <td>26.0</td>\n",
       "      <td>7.9250</td>\n",
       "      <td>...</td>\n",
       "      <td>0</td>\n",
       "      <td>0</td>\n",
       "      <td>1</td>\n",
       "      <td>0</td>\n",
       "      <td>0</td>\n",
       "    </tr>\n",
       "    <tr>\n",
       "      <th>3</th>\n",
       "      <td>1</td>\n",
       "      <td>1</td>\n",
       "      <td>0</td>\n",
       "      <td>35.0</td>\n",
       "      <td>53.1000</td>\n",
       "      <td>...</td>\n",
       "      <td>0</td>\n",
       "      <td>0</td>\n",
       "      <td>0</td>\n",
       "      <td>0</td>\n",
       "      <td>1</td>\n",
       "    </tr>\n",
       "    <tr>\n",
       "      <th>4</th>\n",
       "      <td>3</td>\n",
       "      <td>0</td>\n",
       "      <td>0</td>\n",
       "      <td>35.0</td>\n",
       "      <td>8.0500</td>\n",
       "      <td>...</td>\n",
       "      <td>0</td>\n",
       "      <td>0</td>\n",
       "      <td>0</td>\n",
       "      <td>1</td>\n",
       "      <td>0</td>\n",
       "    </tr>\n",
       "  </tbody>\n",
       "</table>\n",
       "<p>5 rows × 17 columns</p>\n",
       "</div>"
      ],
      "text/plain": [
       "   Pclass  SibSp  Parch   Age     Fare    ...      Title_Master  Title_Misc  Title_Miss  Title_Mr  Title_Mrs\n",
       "0       3      1      0  22.0   7.2500    ...                 0           0           0         1          0\n",
       "1       1      1      0  38.0  71.2833    ...                 0           0           0         0          1\n",
       "2       3      0      0  26.0   7.9250    ...                 0           0           1         0          0\n",
       "3       1      1      0  35.0  53.1000    ...                 0           0           0         0          1\n",
       "4       3      0      0  35.0   8.0500    ...                 0           0           0         1          0\n",
       "\n",
       "[5 rows x 17 columns]"
      ]
     },
     "execution_count": 42,
     "metadata": {
      "tags": []
     },
     "output_type": "execute_result"
    }
   ],
   "source": [
    "data1_dummy = pd.get_dummies(data1[data1_x])\n",
    "data1_x_dummy = data1_dummy.columns.tolist()\n",
    "data1_xy_dummy = Target + data1_x_dummy\n",
    "#features = ['Pclass', 'Age', 'SibSp', 'Parch', 'FamilySize', 'IsAlone', 'Sex_Code', 'Embarked_Code', 'Title_Code', 'AgeBin_Code', 'FareBin_Code',]\n",
    "#x = data1[features]\n",
    "#y = data1['Survived']\n",
    "data1_dummy.head()"
   ]
  },
  {
   "cell_type": "code",
   "execution_count": 0,
   "metadata": {
    "colab": {},
    "colab_type": "code",
    "id": "12gGAfFrYKDT"
   },
   "outputs": [],
   "source": [
    "train1_x, test1_x, train1_y, test1_y = model_selection.train_test_split(data1[data1_x_calc], data1[Target], random_state = 0)\n",
    "train1_x_bin, test1_x_bin, train1_y_bin, test1_y_bin = model_selection.train_test_split(data1[data1_x_bin], data1[Target] , random_state = 0)\n",
    "train1_x_dummy, test1_x_dummy, train1_y_dummy, test1_y_dummy = model_selection.train_test_split(data1_dummy[data1_x_dummy], data1[Target], random_state = 0)"
   ]
  },
  {
   "cell_type": "code",
   "execution_count": 0,
   "metadata": {
    "colab": {},
    "colab_type": "code",
    "id": "4iGxtObLYrYa"
   },
   "outputs": [],
   "source": [
    "MLA = [\n",
    "    #Ensemble Methods\n",
    "    #ensemble.AdaBoostClassifier(),\n",
    "    #ensemble.BaggingClassifier(),\n",
    "    #ensemble.ExtraTreesClassifier(),\n",
    "    #ensemble.GradientBoostingClassifier(),\n",
    "    #ensemble.RandomForestClassifier(),\n",
    "\n",
    "    #Gaussian Processes\n",
    "    #gaussian_process.GaussianProcessClassifier(),\n",
    "    \n",
    "    #GLM\n",
    "    #linear_model.LogisticRegressionCV(),\n",
    "    #linear_model.PassiveAggressiveClassifier(),\n",
    "    #linear_model.RidgeClassifierCV(),\n",
    "    #linear_model.SGDClassifier(),\n",
    "    #linear_model.Perceptron(),\n",
    "    \n",
    "    #Navies Bayes\n",
    "    #naive_bayes.BernoulliNB(),\n",
    "    #naive_bayes.GaussianNB(),\n",
    "    \n",
    "    #Nearest Neighbor\n",
    "    #neighbors.KNeighborsClassifier(),\n",
    "    \n",
    "    #SVM\n",
    "    #svm.SVC(probability=True),\n",
    "    #svm.NuSVC(probability=True),\n",
    "    #svm.LinearSVC(),\n",
    "    \n",
    "    #Trees    \n",
    "    #tree.DecisionTreeClassifier(),\n",
    "    #tree.ExtraTreeClassifier(),\n",
    "    \n",
    "    #Discriminant Analysis\n",
    "    #discriminant_analysis.LinearDiscriminantAnalysis(),\n",
    "    #discriminant_analysis.QuadraticDiscriminantAnalysis(),\n",
    "\n",
    "    \n",
    "    #xgboost: http://xgboost.readthedocs.io/en/latest/model.html\n",
    "    XGBClassifier()\n",
    "    ]"
   ]
  },
  {
   "cell_type": "code",
   "execution_count": 0,
   "metadata": {
    "colab": {},
    "colab_type": "code",
    "id": "pYZaEU5YYrVd"
   },
   "outputs": [],
   "source": [
    "cv_split = model_selection.ShuffleSplit(n_splits = 10, test_size = .3, train_size = .6, random_state = 0 ) # run model 10x with 60/30 split intentionally leaving out 10%\n",
    "\n",
    "#create table to compare MLA metrics\n",
    "MLA_columns = ['MLA Name', 'MLA Parameters','MLA Train Accuracy Mean', 'MLA Test Accuracy Mean', 'MLA Test Accuracy 3*STD' ,'MLA Time']\n",
    "MLA_compare = pd.DataFrame(columns = MLA_columns)\n",
    "\n",
    "#create table to compare MLA predictions\n",
    "MLA_predict = data1[Target]\n",
    "data1[data1_x_bin]"
   ]
  },
  {
   "cell_type": "code",
   "execution_count": 64,
   "metadata": {
    "colab": {
     "base_uri": "https://localhost:8080/",
     "height": 321
    },
    "colab_type": "code",
    "id": "-ZZvBFk3YrSl",
    "outputId": "6851b922-836d-4f79-f21f-5fb137b27443"
   },
   "outputs": [
    {
     "name": "stderr",
     "output_type": "stream",
     "text": [
      "/usr/local/lib/python3.6/dist-packages/sklearn/preprocessing/label.py:219: DataConversionWarning: A column-vector y was passed when a 1d array was expected. Please change the shape of y to (n_samples, ), for example using ravel().\n",
      "  y = column_or_1d(y, warn=True)\n",
      "/usr/local/lib/python3.6/dist-packages/sklearn/preprocessing/label.py:252: DataConversionWarning: A column-vector y was passed when a 1d array was expected. Please change the shape of y to (n_samples, ), for example using ravel().\n",
      "  y = column_or_1d(y, warn=True)\n",
      "/usr/local/lib/python3.6/dist-packages/sklearn/utils/deprecation.py:125: FutureWarning: You are accessing a training score ('train_score'), which will not be available by default any more in 0.21. If you need training scores, please set return_train_score=True\n",
      "  warnings.warn(*warn_args, **warn_kwargs)\n",
      "/usr/local/lib/python3.6/dist-packages/ipykernel_launcher.py:21: SettingWithCopyWarning: \n",
      "A value is trying to be set on a copy of a slice from a DataFrame.\n",
      "Try using .loc[row_indexer,col_indexer] = value instead\n",
      "\n",
      "See the caveats in the documentation: http://pandas.pydata.org/pandas-docs/stable/indexing.html#indexing-view-versus-copy\n"
     ]
    },
    {
     "data": {
      "text/html": [
       "<div>\n",
       "<style scoped>\n",
       "    .dataframe tbody tr th:only-of-type {\n",
       "        vertical-align: middle;\n",
       "    }\n",
       "\n",
       "    .dataframe tbody tr th {\n",
       "        vertical-align: top;\n",
       "    }\n",
       "\n",
       "    .dataframe thead th {\n",
       "        text-align: right;\n",
       "    }\n",
       "</style>\n",
       "<table border=\"1\" class=\"dataframe\">\n",
       "  <thead>\n",
       "    <tr style=\"text-align: right;\">\n",
       "      <th></th>\n",
       "      <th>MLA Name</th>\n",
       "      <th>MLA Parameters</th>\n",
       "      <th>MLA Train Accuracy Mean</th>\n",
       "      <th>MLA Test Accuracy Mean</th>\n",
       "      <th>MLA Test Accuracy 3*STD</th>\n",
       "      <th>MLA Time</th>\n",
       "    </tr>\n",
       "  </thead>\n",
       "  <tbody>\n",
       "    <tr>\n",
       "      <th>0</th>\n",
       "      <td>XGBClassifier</td>\n",
       "      <td>{'base_score': 0.5, 'booster': 'gbtree', 'cols...</td>\n",
       "      <td>0.856367</td>\n",
       "      <td>0.829478</td>\n",
       "      <td>0.0527546</td>\n",
       "      <td>0.0234039</td>\n",
       "    </tr>\n",
       "  </tbody>\n",
       "</table>\n",
       "</div>"
      ],
      "text/plain": [
       "        MLA Name                                     MLA Parameters MLA Train Accuracy Mean MLA Test Accuracy Mean MLA Test Accuracy 3*STD   MLA Time\n",
       "0  XGBClassifier  {'base_score': 0.5, 'booster': 'gbtree', 'cols...                0.856367               0.829478               0.0527546  0.0234039"
      ]
     },
     "execution_count": 64,
     "metadata": {
      "tags": []
     },
     "output_type": "execute_result"
    }
   ],
   "source": [
    "#index through MLA and save performance to table\n",
    "row_index = 0\n",
    "for alg in MLA:\n",
    "\n",
    "    #set name and parameters\n",
    "    MLA_name = alg.__class__.__name__\n",
    "    MLA_compare.loc[row_index, 'MLA Name'] = MLA_name\n",
    "    MLA_compare.loc[row_index, 'MLA Parameters'] = str(alg.get_params())\n",
    "    \n",
    "    #score model with cross validation: http://scikit-learn.org/stable/modules/generated/sklearn.model_selection.cross_validate.html#sklearn.model_selection.cross_validate\n",
    "    cv_results = model_selection.cross_validate(alg, data1[data1_x_bin], data1[Target], cv  = cv_split)\n",
    "\n",
    "    MLA_compare.loc[row_index, 'MLA Time'] = cv_results['fit_time'].mean()\n",
    "    MLA_compare.loc[row_index, 'MLA Train Accuracy Mean'] = cv_results['train_score'].mean()\n",
    "    MLA_compare.loc[row_index, 'MLA Test Accuracy Mean'] = cv_results['test_score'].mean()   \n",
    "    #if this is a non-bias random sample, then +/-3 standard deviations (std) from the mean, should statistically capture 99.7% of the subsets\n",
    "    MLA_compare.loc[row_index, 'MLA Test Accuracy 3*STD'] = cv_results['test_score'].std()*3   #let's know the worst that can happen!\n",
    "    \n",
    "\n",
    "    #save MLA predictions - see section 6 for usage\n",
    "    alg.fit(data1[data1_x_bin], data1[Target])\n",
    "    MLA_predict[MLA_name] = alg.predict(data1[data1_x_bin])\n",
    "    \n",
    "    output = pd.DataFrame({'PassengerId': data_val.PassengerId,\n",
    "                       'Survived': MLA_predict[MLA_name]})\n",
    "    output.to_csv('submission_v4.csv', index=False)\n",
    "    \n",
    "    row_index+=1\n",
    "\n",
    "    \n",
    "#print and sort table: https://pandas.pydata.org/pandas-docs/stable/generated/pandas.DataFrame.sort_values.html\n",
    "MLA_compare.sort_values(by = ['MLA Test Accuracy Mean'], ascending = False, inplace = True)\n",
    "MLA_compare"
   ]
  },
  {
   "cell_type": "code",
   "execution_count": 51,
   "metadata": {
    "colab": {
     "base_uri": "https://localhost:8080/",
     "height": 603
    },
    "colab_type": "code",
    "id": "-y5halmOYrNk",
    "outputId": "324e7c71-77e7-4ae4-da3e-f7e2997c418c"
   },
   "outputs": [
    {
     "name": "stderr",
     "output_type": "stream",
     "text": [
      "/usr/local/lib/python3.6/dist-packages/seaborn/categorical.py:1428: FutureWarning: remove_na is deprecated and is a private function. Do not use.\n",
      "  stat_data = remove_na(group_data)\n"
     ]
    },
    {
     "data": {
      "text/plain": [
       "Text(0, 0.5, 'Algorithm')"
      ]
     },
     "execution_count": 51,
     "metadata": {
      "tags": []
     },
     "output_type": "execute_result"
    },
    {
     "data": {
      "image/png": "[encoded data removed]",
      "text/plain": [
       "<Figure size 864x576 with 1 Axes>"
      ]
     },
     "metadata": {
      "tags": []
     },
     "output_type": "display_data"
    }
   ],
   "source": [
    "#barplot using https://seaborn.pydata.org/generated/seaborn.barplot.html\n",
    "sns.barplot(x='MLA Test Accuracy Mean', y = 'MLA Name', data = MLA_compare, color = 'm')\n",
    "\n",
    "#prettify using pyplot: https://matplotlib.org/api/pyplot_api.html\n",
    "plt.title('Machine Learning Algorithm Accuracy Score \\n')\n",
    "plt.xlabel('Accuracy Score (%)')\n",
    "plt.ylabel('Algorithm')"
   ]
  },
  {
   "cell_type": "code",
   "execution_count": 0,
   "metadata": {
    "colab": {},
    "colab_type": "code",
    "id": "3m27yDhlYrGy"
   },
   "outputs": [],
   "source": []
  },
  {
   "cell_type": "code",
   "execution_count": 0,
   "metadata": {
    "colab": {},
    "colab_type": "code",
    "id": "k1ww_8buYq9P"
   },
   "outputs": [],
   "source": []
  },
  {
   "cell_type": "code",
   "execution_count": 0,
   "metadata": {
    "colab": {
     "base_uri": "https://localhost:8080/",
     "height": 34
    },
    "colab_type": "code",
    "id": "C8vkvVbzAOLT",
    "outputId": "91fca616-97c2-47dc-a57b-ea0be8a95eb3"
   },
   "outputs": [
    {
     "data": {
      "text/plain": [
       "0.806"
      ]
     },
     "execution_count": 93,
     "metadata": {
      "tags": []
     },
     "output_type": "execute_result"
    }
   ],
   "source": [
    "rf = RandomForestClassifier(n_estimators=850, random_state=42)\n",
    "kfold = KFold(n_splits=5, shuffle=True, random_state=42)\n",
    "scores = cross_val_score(rf, x, y, scoring='accuracy', cv=kfold, n_jobs=2)\n",
    "round(scores.mean(), 3)"
   ]
  },
  {
   "cell_type": "code",
   "execution_count": 0,
   "metadata": {
    "colab": {
     "base_uri": "https://localhost:8080/",
     "height": 34
    },
    "colab_type": "code",
    "id": "k0aypuOnERAx",
    "outputId": "f65f8411-06a1-46f8-d647-43f3ca951502"
   },
   "outputs": [
    {
     "data": {
      "text/plain": [
       "0.75"
      ]
     },
     "execution_count": 94,
     "metadata": {
      "tags": []
     },
     "output_type": "execute_result"
    }
   ],
   "source": [
    "knn = KNeighborsClassifier(n_neighbors=3)\n",
    "kfold = KFold(n_splits=5, shuffle=True, random_state=42)\n",
    "scores = cross_val_score(knn, x, y, scoring='accuracy', cv=kfold, n_jobs=2)\n",
    "round(scores.mean(), 3)"
   ]
  },
  {
   "cell_type": "code",
   "execution_count": 0,
   "metadata": {
    "colab": {
     "base_uri": "https://localhost:8080/",
     "height": 34
    },
    "colab_type": "code",
    "id": "C9wqXCZSE2wq",
    "outputId": "b9c90d93-317c-4dab-a52c-10d09112a825"
   },
   "outputs": [
    {
     "data": {
      "text/plain": [
       "0.825"
      ]
     },
     "execution_count": 95,
     "metadata": {
      "tags": []
     },
     "output_type": "execute_result"
    }
   ],
   "source": [
    "tree = DecisionTreeClassifier(max_leaf_nodes=45, random_state=42)\n",
    "kfold = KFold(n_splits=5, shuffle=True, random_state=42)\n",
    "scores = cross_val_score(tree, x, y, scoring='accuracy', cv=kfold, n_jobs=2)\n",
    "round(scores.mean(), 3)"
   ]
  },
  {
   "cell_type": "code",
   "execution_count": 0,
   "metadata": {
    "colab": {
     "base_uri": "https://localhost:8080/",
     "height": 34
    },
    "colab_type": "code",
    "id": "gxUSGaQWFEw3",
    "outputId": "78e26962-3d7f-4557-934a-256e4a41f799"
   },
   "outputs": [
    {
     "data": {
      "text/plain": [
       "0.794"
      ]
     },
     "execution_count": 96,
     "metadata": {
      "tags": []
     },
     "output_type": "execute_result"
    }
   ],
   "source": [
    "svc = SVC(kernel='linear', C=10, random_state=42)\n",
    "kfold = KFold(n_splits=5, shuffle=True, random_state=42)\n",
    "scores = cross_val_score(svc, x, y, scoring='accuracy', cv=kfold, n_jobs=2)\n",
    "round(scores.mean(), 3)"
   ]
  },
  {
   "cell_type": "code",
   "execution_count": 0,
   "metadata": {
    "colab": {
     "base_uri": "https://localhost:8080/",
     "height": 34
    },
    "colab_type": "code",
    "id": "cdy8LrZaNI84",
    "outputId": "dde29e20-e771-428d-e6e4-f6b63653e947"
   },
   "outputs": [
    {
     "data": {
      "text/plain": [
       "0.829"
      ]
     },
     "execution_count": 97,
     "metadata": {
      "tags": []
     },
     "output_type": "execute_result"
    }
   ],
   "source": [
    "xgb = XGBClassifier(n_estimators=1000, learning_rate=0.02, random_state=42)\n",
    "kfold = KFold(n_splits=5, shuffle=True, random_state=42)\n",
    "scores = cross_val_score(xgb, x, y, scoring='accuracy', cv=kfold, n_jobs=2)\n",
    "round(scores.mean(), 3)"
   ]
  },
  {
   "cell_type": "code",
   "execution_count": 0,
   "metadata": {
    "colab": {},
    "colab_type": "code",
    "id": "wlYzPz4ND7fs"
   },
   "outputs": [],
   "source": [
    "model = DecisionTreeClassifier(max_leaf_nodes=45, random_state=42)\n",
    "model.fit(x, y)\n",
    "predictions = model.predict(test_x)"
   ]
  },
  {
   "cell_type": "code",
   "execution_count": 0,
   "metadata": {
    "colab": {},
    "colab_type": "code",
    "id": "E-SJq7sqO7kZ"
   },
   "outputs": [],
   "source": [
    "model = XGBClassifier(n_estimators=1000, learning_rate=0.02, random_state=42)\n",
    "model.fit(x, y)\n",
    "predictions = model.predict(test_x)"
   ]
  },
  {
   "cell_type": "code",
   "execution_count": 0,
   "metadata": {
    "colab": {},
    "colab_type": "code",
    "id": "e14CdA_BASLj"
   },
   "outputs": [],
   "source": [
    "output = pd.DataFrame({'PassengerId': test_df.PassengerId,\n",
    "                       'Survived': predictions})\n",
    "output.to_csv('submission_v3.csv', index=False)"
   ]
  }
 ],
 "metadata": {
  "colab": {
   "collapsed_sections": [],
   "name": "titanic_task_for_kaggle_v4.ipynb",
   "provenance": [],
   "version": "0.3.2"
  },
  "kernelspec": {
   "display_name": "Python 3",
   "language": "python",
   "name": "python3"
  },
  "language_info": {
   "codemirror_mode": {
    "name": "ipython",
    "version": 3
   },
   "file_extension": ".py",
   "mimetype": "text/x-python",
   "name": "python",
   "nbconvert_exporter": "python",
   "pygments_lexer": "ipython3",
   "version": "3.6.7"
  }
 },
 "nbformat": 4,
 "nbformat_minor": 1
}
