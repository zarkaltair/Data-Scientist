{
  "nbformat": 4,
  "nbformat_minor": 0,
  "metadata": {
    "colab": {
      "name": "02_tensorflow_classification",
      "provenance": [],
      "collapsed_sections": []
    },
    "kernelspec": {
      "display_name": "Python 3",
      "name": "python3"
    }
  },
  "cells": [
    {
      "cell_type": "markdown",
      "metadata": {
        "id": "nPDc8yQtVxk4"
      },
      "source": [
        "#TensorFlow versions in Colab"
      ]
    },
    {
      "cell_type": "markdown",
      "metadata": {
        "id": "N2y2uqx9GfA5"
      },
      "source": [
        "\n",
        "##Background\n",
        "Colab has two versions of TensorFlow pre-installed: a 2.x version and a 1.x version. Colab uses TensorFlow 2.x by default, though you can switch to 1.x by the method shown below.\n"
      ]
    },
    {
      "cell_type": "markdown",
      "metadata": {
        "id": "aR_btJrKGdw7"
      },
      "source": [
        "##Specifying the TensorFlow version\n",
        "\n",
        "Running `import tensorflow` will import the default version (currently 2.x). You can use 1.x by running a cell with the `tensorflow_version` magic **before** you run `import tensorflow`."
      ]
    },
    {
      "cell_type": "code",
      "metadata": {
        "colab": {
          "base_uri": "https://localhost:8080/"
        },
        "id": "NeWVBhf1VxlH",
        "outputId": "1191654c-97ac-40ec-bb24-3b487e4a917e"
      },
      "source": [
        "%tensorflow_version 1.x"
      ],
      "execution_count": 1,
      "outputs": [
        {
          "output_type": "stream",
          "text": [
            "TensorFlow 1.x selected.\n"
          ],
          "name": "stdout"
        }
      ]
    },
    {
      "cell_type": "markdown",
      "metadata": {
        "id": "8dSlimhOVxlQ"
      },
      "source": [
        "Once you have specified a version via this magic, you can run `import tensorflow` as normal and verify which version was imported as follows:"
      ]
    },
    {
      "cell_type": "code",
      "metadata": {
        "colab": {
          "base_uri": "https://localhost:8080/"
        },
        "id": "-XbfkU7BeziQ",
        "outputId": "9644b07e-8f29-40ae-fefa-7cf96af4e8dd"
      },
      "source": [
        "import tensorflow as tf\n",
        "print(tf.__version__)"
      ],
      "execution_count": 2,
      "outputs": [
        {
          "output_type": "stream",
          "text": [
            "1.15.2\n"
          ],
          "name": "stdout"
        }
      ]
    },
    {
      "cell_type": "markdown",
      "metadata": {
        "id": "uBIKyjpEVxlU"
      },
      "source": [
        "If you want to switch TensorFlow versions after import, you **will need to restart your runtime** with 'Runtime' -> 'Restart runtime...' and then specify the version before you import it again."
      ]
    },
    {
      "cell_type": "markdown",
      "metadata": {
        "id": "8UvRkm1JGUrk"
      },
      "source": [
        "## Avoid Using ``pip install`` with GPUs and TPUs\n",
        "\n",
        "We recommend against using ``pip install`` to specify a particular TensorFlow version for both GPU and TPU backends. Colab builds TensorFlow from source to ensure compatibility with our fleet of accelerators. Versions of TensorFlow fetched from PyPI by ``pip`` may suffer from performance problems or may not work at all."
      ]
    },
    {
      "cell_type": "code",
      "metadata": {
        "id": "SR-DdtfgVfcR"
      },
      "source": [
        "import matplotlib.pyplot as plt\n",
        "\n",
        "from tensorflow.examples.tutorials.mnist import input_data\n",
        "\n",
        "%matplotlib inline"
      ],
      "execution_count": 3,
      "outputs": []
    },
    {
      "cell_type": "code",
      "metadata": {
        "colab": {
          "base_uri": "https://localhost:8080/",
          "height": 813
        },
        "id": "aR5JaxOeV9JO",
        "outputId": "24b4e735-e027-48ac-ff65-ea556d8e055f"
      },
      "source": [
        "mnist = input_data.read_data_sets('/tmp/data/', one_hot=True)\n",
        "\n",
        "image = mnist.train.images[7].reshape([28, 28])\n",
        "plt.gray()\n",
        "plt.imshow(image)"
      ],
      "execution_count": 4,
      "outputs": [
        {
          "output_type": "stream",
          "text": [
            "WARNING:tensorflow:From <ipython-input-4-ab909a3925ea>:1: read_data_sets (from tensorflow.contrib.learn.python.learn.datasets.mnist) is deprecated and will be removed in a future version.\n",
            "Instructions for updating:\n",
            "Please use alternatives such as official/mnist/dataset.py from tensorflow/models.\n",
            "WARNING:tensorflow:From /tensorflow-1.15.2/python3.7/tensorflow_core/contrib/learn/python/learn/datasets/mnist.py:260: maybe_download (from tensorflow.contrib.learn.python.learn.datasets.base) is deprecated and will be removed in a future version.\n",
            "Instructions for updating:\n",
            "Please write your own downloading logic.\n",
            "WARNING:tensorflow:From /tensorflow-1.15.2/python3.7/tensorflow_core/contrib/learn/python/learn/datasets/base.py:252: _internal_retry.<locals>.wrap.<locals>.wrapped_fn (from tensorflow.contrib.learn.python.learn.datasets.base) is deprecated and will be removed in a future version.\n",
            "Instructions for updating:\n",
            "Please use urllib or similar directly.\n",
            "Successfully downloaded train-images-idx3-ubyte.gz 9912422 bytes.\n",
            "WARNING:tensorflow:From /tensorflow-1.15.2/python3.7/tensorflow_core/contrib/learn/python/learn/datasets/mnist.py:262: extract_images (from tensorflow.contrib.learn.python.learn.datasets.mnist) is deprecated and will be removed in a future version.\n",
            "Instructions for updating:\n",
            "Please use tf.data to implement this functionality.\n",
            "Extracting /tmp/data/train-images-idx3-ubyte.gz\n",
            "Successfully downloaded train-labels-idx1-ubyte.gz 28881 bytes.\n",
            "WARNING:tensorflow:From /tensorflow-1.15.2/python3.7/tensorflow_core/contrib/learn/python/learn/datasets/mnist.py:267: extract_labels (from tensorflow.contrib.learn.python.learn.datasets.mnist) is deprecated and will be removed in a future version.\n",
            "Instructions for updating:\n",
            "Please use tf.data to implement this functionality.\n",
            "Extracting /tmp/data/train-labels-idx1-ubyte.gz\n",
            "WARNING:tensorflow:From /tensorflow-1.15.2/python3.7/tensorflow_core/contrib/learn/python/learn/datasets/mnist.py:110: dense_to_one_hot (from tensorflow.contrib.learn.python.learn.datasets.mnist) is deprecated and will be removed in a future version.\n",
            "Instructions for updating:\n",
            "Please use tf.one_hot on tensors.\n",
            "Successfully downloaded t10k-images-idx3-ubyte.gz 1648877 bytes.\n",
            "Extracting /tmp/data/t10k-images-idx3-ubyte.gz\n",
            "Successfully downloaded t10k-labels-idx1-ubyte.gz 4542 bytes.\n",
            "Extracting /tmp/data/t10k-labels-idx1-ubyte.gz\n",
            "WARNING:tensorflow:From /tensorflow-1.15.2/python3.7/tensorflow_core/contrib/learn/python/learn/datasets/mnist.py:290: DataSet.__init__ (from tensorflow.contrib.learn.python.learn.datasets.mnist) is deprecated and will be removed in a future version.\n",
            "Instructions for updating:\n",
            "Please use alternatives such as official/mnist/dataset.py from tensorflow/models.\n"
          ],
          "name": "stdout"
        },
        {
          "output_type": "execute_result",
          "data": {
            "text/plain": [
              "<matplotlib.image.AxesImage at 0x7fe572c48310>"
            ]
          },
          "metadata": {
            "tags": []
          },
          "execution_count": 4
        },
        {
          "output_type": "display_data",
          "data": {
            "image/png": "[encoded data removed]",
            "text/plain": [
              "<Figure size 432x288 with 1 Axes>"
            ]
          },
          "metadata": {
            "tags": [],
            "needs_background": "light"
          }
        }
      ]
    },
    {
      "cell_type": "code",
      "metadata": {
        "colab": {
          "base_uri": "https://localhost:8080/"
        },
        "id": "7G1oAxyiWuRJ",
        "outputId": "577120be-4aab-4786-bbb8-d7c0772f4427"
      },
      "source": [
        "print(mnist.train.images[7].shape)\n",
        "print(mnist.train.labels[7].shape)"
      ],
      "execution_count": 6,
      "outputs": [
        {
          "output_type": "stream",
          "text": [
            "(784,)\n",
            "(10,)\n"
          ],
          "name": "stdout"
        }
      ]
    },
    {
      "cell_type": "code",
      "metadata": {
        "colab": {
          "base_uri": "https://localhost:8080/"
        },
        "id": "IU7fdpnIXEzU",
        "outputId": "36c38d80-f03f-492d-ad98-13af5e25ffa4"
      },
      "source": [
        "print(mnist.train.images[7][150: 200])"
      ],
      "execution_count": 7,
      "outputs": [
        {
          "output_type": "stream",
          "text": [
            "[0.         0.         0.37254903 0.8862746  0.9921569  0.9921569\n",
            " 0.8862746  0.         0.         0.36078432 0.0509804  0.\n",
            " 0.         0.         0.         0.         0.         0.\n",
            " 0.         0.         0.         0.         0.         0.\n",
            " 0.         0.         0.         0.         0.01960784 0.29803923\n",
            " 0.97647065 0.9921569  0.9921569  0.9921569  0.8862746  0.\n",
            " 0.41176474 0.9843138  0.854902   0.34117648 0.         0.\n",
            " 0.         0.         0.         0.         0.         0.\n",
            " 0.         0.        ]\n"
          ],
          "name": "stdout"
        }
      ]
    },
    {
      "cell_type": "code",
      "metadata": {
        "colab": {
          "base_uri": "https://localhost:8080/"
        },
        "id": "6k3OK2nBXP71",
        "outputId": "913eefd0-6c68-4f3a-b8a3-11db2d5b28ce"
      },
      "source": [
        "print(mnist.train.labels[: 10])"
      ],
      "execution_count": 8,
      "outputs": [
        {
          "output_type": "stream",
          "text": [
            "[[0. 0. 0. 0. 0. 0. 0. 1. 0. 0.]\n",
            " [0. 0. 0. 1. 0. 0. 0. 0. 0. 0.]\n",
            " [0. 0. 0. 0. 1. 0. 0. 0. 0. 0.]\n",
            " [0. 0. 0. 0. 0. 0. 1. 0. 0. 0.]\n",
            " [0. 1. 0. 0. 0. 0. 0. 0. 0. 0.]\n",
            " [0. 0. 0. 0. 0. 0. 0. 0. 1. 0.]\n",
            " [0. 1. 0. 0. 0. 0. 0. 0. 0. 0.]\n",
            " [1. 0. 0. 0. 0. 0. 0. 0. 0. 0.]\n",
            " [0. 0. 0. 0. 0. 0. 0. 0. 0. 1.]\n",
            " [0. 0. 0. 0. 0. 0. 0. 0. 1. 0.]]\n"
          ],
          "name": "stdout"
        }
      ]
    },
    {
      "cell_type": "code",
      "metadata": {
        "id": "EkhalzdlXVRi"
      },
      "source": [
        "learning_rate = 0.1\n",
        "epochs = 1000\n",
        "batch_size = 128\n",
        "\n",
        "n_hidden_1 = 256\n",
        "n_hidden_2 = 256\n",
        "num_input = 784 # 28 * 28\n",
        "num_classes = 10\n",
        "\n",
        "X = tf.placeholder('float', [None, num_input])\n",
        "Y = tf.placeholder('float', [None, num_classes])"
      ],
      "execution_count": 9,
      "outputs": []
    },
    {
      "cell_type": "code",
      "metadata": {
        "id": "j5LbGdV1YOPH"
      },
      "source": [
        "weights = {\n",
        "    'h1': tf.Variable(tf.random_normal([num_input, n_hidden_1])),\n",
        "    'h2': tf.Variable(tf.random_normal([n_hidden_1, n_hidden_2])),\n",
        "    'output': tf.Variable(tf.random_normal([n_hidden_2, num_classes]))\n",
        "}\n",
        "biases = {\n",
        "    'b1': tf.Variable(tf.random_normal([n_hidden_1])),\n",
        "    'b2': tf.Variable(tf.random_normal([n_hidden_2])),\n",
        "    'output': tf.Variable(tf.random_normal([num_classes]))\n",
        "}"
      ],
      "execution_count": 10,
      "outputs": []
    },
    {
      "cell_type": "code",
      "metadata": {
        "id": "vu-7vM29Z1cO"
      },
      "source": [
        "def network(x):\n",
        "    layer_1 = tf.add(tf.matmul(x, weights['h1']), biases['b1'])\n",
        "    layer_2 = tf.add(tf.matmul(layer_1, weights['h2']), biases['b2'])\n",
        "    output_layer = tf.matmul(layer_2, weights['output'] + biases['output'])\n",
        "    return output_layer"
      ],
      "execution_count": 14,
      "outputs": []
    },
    {
      "cell_type": "code",
      "metadata": {
        "id": "FqF0XvUjaewm"
      },
      "source": [
        "logits = network(X)\n",
        "\n",
        "loss = tf.reduce_mean(\n",
        "    tf.nn.softmax_cross_entropy_with_logits_v2(\n",
        "        logits=logits, labels=Y\n",
        "    )\n",
        ")\n",
        "optimizer = tf.train.AdamOptimizer(learning_rate=learning_rate)\n",
        "train = optimizer.minimize(loss)\n",
        "\n",
        "correct_prediction = tf.equal(tf.argmax(logits, 1), tf.argmax(Y, 1))\n",
        "accuracy = tf.reduce_mean(tf.cast(correct_prediction, tf.float32))\n",
        "\n",
        "init = tf.global_variables_initializer()"
      ],
      "execution_count": 15,
      "outputs": []
    },
    {
      "cell_type": "code",
      "metadata": {
        "colab": {
          "base_uri": "https://localhost:8080/"
        },
        "id": "lfAHwobBb0vl",
        "outputId": "aa065f78-54c1-46d9-d663-6d579d971439"
      },
      "source": [
        "with tf.Session() as sess:\n",
        "    sess.run(init)\n",
        "\n",
        "    for epoch in range(epochs):\n",
        "        batch_x, batch_y = mnist.train.next_batch(batch_size)\n",
        "        sess.run(train, feed_dict={X: batch_x, Y: batch_y})\n",
        "\n",
        "        if epoch % 50 == 0:\n",
        "            train_accuracy = sess.run(\n",
        "                accuracy,\n",
        "                feed_dict={\n",
        "                    X: mnist.train.images,\n",
        "                    Y: mnist.train.labels\n",
        "                }\n",
        "            )\n",
        "\n",
        "            print(f'Epoch #{epoch}: train accuracy = {train_accuracy}')\n",
        "\n",
        "    print('Test accuracy = {}'.format(\n",
        "        sess.run(\n",
        "            accuracy,\n",
        "            feed_dict={\n",
        "                X: mnist.train.images,\n",
        "                Y: mnist.train.labels\n",
        "            }\n",
        "        )\n",
        "    ))"
      ],
      "execution_count": 17,
      "outputs": [
        {
          "output_type": "stream",
          "text": [
            "Epoch #0: train accuracy = 0.22592727839946747\n",
            "Epoch #50: train accuracy = 0.842236340045929\n",
            "Epoch #100: train accuracy = 0.8506545424461365\n",
            "Epoch #150: train accuracy = 0.8306182026863098\n",
            "Epoch #200: train accuracy = 0.850454568862915\n",
            "Epoch #250: train accuracy = 0.8523091077804565\n",
            "Epoch #300: train accuracy = 0.848690927028656\n",
            "Epoch #350: train accuracy = 0.8501818180084229\n",
            "Epoch #400: train accuracy = 0.8349817991256714\n",
            "Epoch #450: train accuracy = 0.8502363562583923\n",
            "Epoch #500: train accuracy = 0.8412545323371887\n",
            "Epoch #550: train accuracy = 0.8599272966384888\n",
            "Epoch #600: train accuracy = 0.862854540348053\n",
            "Epoch #650: train accuracy = 0.838309109210968\n",
            "Epoch #700: train accuracy = 0.8469454646110535\n",
            "Epoch #750: train accuracy = 0.8550181984901428\n",
            "Epoch #800: train accuracy = 0.828709065914154\n",
            "Epoch #850: train accuracy = 0.8511090874671936\n",
            "Epoch #900: train accuracy = 0.8393272757530212\n",
            "Epoch #950: train accuracy = 0.8429999947547913\n",
            "Test accuracy = 0.8371999859809875\n"
          ],
          "name": "stdout"
        }
      ]
    },
    {
      "cell_type": "markdown",
      "metadata": {
        "id": "YEL82hQtfN-3"
      },
      "source": [
        "## Keras MNIST"
      ]
    },
    {
      "cell_type": "code",
      "metadata": {
        "colab": {
          "base_uri": "https://localhost:8080/",
          "height": 35
        },
        "id": "fZzBYg-VfJxy",
        "outputId": "b3a2f628-216e-40db-9f0f-77d8df8928bc"
      },
      "source": [
        "tf.__version__"
      ],
      "execution_count": 19,
      "outputs": [
        {
          "output_type": "execute_result",
          "data": {
            "application/vnd.google.colaboratory.intrinsic+json": {
              "type": "string"
            },
            "text/plain": [
              "'1.15.2'"
            ]
          },
          "metadata": {
            "tags": []
          },
          "execution_count": 19
        }
      ]
    },
    {
      "cell_type": "code",
      "metadata": {
        "colab": {
          "base_uri": "https://localhost:8080/"
        },
        "id": "7HRDhRF8fY-K",
        "outputId": "df03f9ce-32cc-4936-a638-d1cdb1ba80a7"
      },
      "source": [
        "batch_size = 128\n",
        "num_classes = 10\n",
        "epochs = 2\n",
        "\n",
        "(x_train, y_train), (x_test, y_test) = tf.keras.datasets.mnist.load_data()\n",
        "\n",
        "x_train = x_train.reshape(60000, 784)\n",
        "x_test = x_test.reshape(10000, 784)\n",
        "x_train = x_train.astype('float32')\n",
        "x_test = x_test.astype('float32')\n",
        "\n",
        "x_train /= 255\n",
        "x_test /= 255\n",
        "\n",
        "print(x_train.shape[0], 'train samples')\n",
        "print(x_test.shape[0], 'test samples')\n",
        "\n",
        "y_train = tf.keras.utils.to_categorical(y_train, num_classes)\n",
        "y_test = tf.keras.utils.to_categorical(y_test, num_classes)"
      ],
      "execution_count": 20,
      "outputs": [
        {
          "output_type": "stream",
          "text": [
            "Downloading data from https://storage.googleapis.com/tensorflow/tf-keras-datasets/mnist.npz\n",
            "11493376/11490434 [==============================] - 0s 0us/step\n",
            "60000 train samples\n",
            "10000 test samples\n"
          ],
          "name": "stdout"
        }
      ]
    },
    {
      "cell_type": "code",
      "metadata": {
        "colab": {
          "base_uri": "https://localhost:8080/"
        },
        "id": "-6JvSdqAgsw7",
        "outputId": "de8ba874-5a3b-4543-feb2-15258bfdd00a"
      },
      "source": [
        "model = tf.keras.models.Sequential()\n",
        "model.add(tf.keras.layers.Dense(512, activation='relu', input_shape=(784,)))\n",
        "model.add(tf.keras.layers.Dropout(0.2))\n",
        "model.add(tf.keras.layers.Dense(512, activation='relu'))\n",
        "model.add(tf.keras.layers.Dropout(0.2))\n",
        "model.add(tf.keras.layers.Dense(num_classes, activation='softmax'))"
      ],
      "execution_count": 21,
      "outputs": [
        {
          "output_type": "stream",
          "text": [
            "WARNING:tensorflow:From /tensorflow-1.15.2/python3.7/tensorflow_core/python/ops/resource_variable_ops.py:1630: calling BaseResourceVariable.__init__ (from tensorflow.python.ops.resource_variable_ops) with constraint is deprecated and will be removed in a future version.\n",
            "Instructions for updating:\n",
            "If using Keras pass *_constraint arguments to layers.\n"
          ],
          "name": "stdout"
        }
      ]
    },
    {
      "cell_type": "code",
      "metadata": {
        "colab": {
          "base_uri": "https://localhost:8080/"
        },
        "id": "IeADivoShrW-",
        "outputId": "257739e3-1450-4547-f585-526bcdc347ef"
      },
      "source": [
        "model.compile(\n",
        "    loss='categorical_crossentropy',\n",
        "    optimizer=tf.keras.optimizers.Adam(),\n",
        "    metrics=['accuracy']\n",
        ")\n",
        "\n",
        "_ = model.fit(\n",
        "    x_train, y_train,\n",
        "    batch_size=batch_size,\n",
        "    epochs=epochs,\n",
        "    verbose=1,\n",
        "    validation_data=(x_test, y_test)\n",
        ")"
      ],
      "execution_count": 22,
      "outputs": [
        {
          "output_type": "stream",
          "text": [
            "Train on 60000 samples, validate on 10000 samples\n",
            "Epoch 1/2\n",
            "60000/60000 [==============================] - 7s 123us/sample - loss: 0.2482 - acc: 0.9249 - val_loss: 0.1016 - val_acc: 0.9686\n",
            "Epoch 2/2\n",
            "60000/60000 [==============================] - 7s 117us/sample - loss: 0.1007 - acc: 0.9696 - val_loss: 0.0697 - val_acc: 0.9776\n"
          ],
          "name": "stdout"
        }
      ]
    },
    {
      "cell_type": "code",
      "metadata": {
        "colab": {
          "base_uri": "https://localhost:8080/"
        },
        "id": "-rNWZCbpi1xK",
        "outputId": "e30356c2-a61f-48b1-8282-15fb3e9198df"
      },
      "source": [
        "loss, accuracy = model.evaluate(x_test, y_test, verbose=0)\n",
        "print('Test loss:', loss)\n",
        "print('Test accuracy:', accuracy)"
      ],
      "execution_count": 23,
      "outputs": [
        {
          "output_type": "stream",
          "text": [
            "Test loss: 0.06966012472063303\n",
            "Test accuracy: 0.9776\n"
          ],
          "name": "stdout"
        }
      ]
    },
    {
      "cell_type": "code",
      "metadata": {
        "id": "BjGFPAkAjLOh"
      },
      "source": [
        ""
      ],
      "execution_count": null,
      "outputs": []
    }
  ]
}