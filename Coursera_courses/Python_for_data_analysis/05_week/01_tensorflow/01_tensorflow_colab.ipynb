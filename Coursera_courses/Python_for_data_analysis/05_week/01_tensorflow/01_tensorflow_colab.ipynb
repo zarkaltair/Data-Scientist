{
  "nbformat": 4,
  "nbformat_minor": 0,
  "metadata": {
    "colab": {
      "name": "Copy of The %tensorflow_version magic",
      "provenance": [],
      "collapsed_sections": []
    },
    "kernelspec": {
      "display_name": "Python 3",
      "name": "python3"
    }
  },
  "cells": [
    {
      "cell_type": "markdown",
      "metadata": {
        "id": "nPDc8yQtVxk4"
      },
      "source": [
        "#TensorFlow versions in Colab"
      ]
    },
    {
      "cell_type": "markdown",
      "metadata": {
        "id": "N2y2uqx9GfA5"
      },
      "source": [
        "\n",
        "##Background\n",
        "Colab has two versions of TensorFlow pre-installed: a 2.x version and a 1.x version. Colab uses TensorFlow 2.x by default, though you can switch to 1.x by the method shown below.\n"
      ]
    },
    {
      "cell_type": "markdown",
      "metadata": {
        "id": "aR_btJrKGdw7"
      },
      "source": [
        "##Specifying the TensorFlow version\n",
        "\n",
        "Running `import tensorflow` will import the default version (currently 2.x). You can use 1.x by running a cell with the `tensorflow_version` magic **before** you run `import tensorflow`."
      ]
    },
    {
      "cell_type": "code",
      "metadata": {
        "colab": {
          "base_uri": "https://localhost:8080/"
        },
        "id": "NeWVBhf1VxlH",
        "outputId": "764d796a-1c6d-4790-8c67-77a58ce742cd"
      },
      "source": [
        "%tensorflow_version 1.x"
      ],
      "execution_count": 1,
      "outputs": [
        {
          "output_type": "stream",
          "text": [
            "TensorFlow 1.x selected.\n"
          ],
          "name": "stdout"
        }
      ]
    },
    {
      "cell_type": "markdown",
      "metadata": {
        "id": "8dSlimhOVxlQ"
      },
      "source": [
        "Once you have specified a version via this magic, you can run `import tensorflow` as normal and verify which version was imported as follows:"
      ]
    },
    {
      "cell_type": "code",
      "metadata": {
        "colab": {
          "base_uri": "https://localhost:8080/"
        },
        "id": "-XbfkU7BeziQ",
        "outputId": "7ee84651-dbba-421c-f09a-4c46604b5fb3"
      },
      "source": [
        "import tensorflow as tf\n",
        "print(tf.__version__)"
      ],
      "execution_count": 4,
      "outputs": [
        {
          "output_type": "stream",
          "text": [
            "1.15.2\n"
          ],
          "name": "stdout"
        }
      ]
    },
    {
      "cell_type": "markdown",
      "metadata": {
        "id": "uBIKyjpEVxlU"
      },
      "source": [
        "If you want to switch TensorFlow versions after import, you **will need to restart your runtime** with 'Runtime' -> 'Restart runtime...' and then specify the version before you import it again."
      ]
    },
    {
      "cell_type": "markdown",
      "metadata": {
        "id": "8UvRkm1JGUrk"
      },
      "source": [
        "## Avoid Using ``pip install`` with GPUs and TPUs\n",
        "\n",
        "We recommend against using ``pip install`` to specify a particular TensorFlow version for both GPU and TPU backends. Colab builds TensorFlow from source to ensure compatibility with our fleet of accelerators. Versions of TensorFlow fetched from PyPI by ``pip`` may suffer from performance problems or may not work at all."
      ]
    },
    {
      "cell_type": "code",
      "metadata": {
        "id": "KLJ8uL1IKDXI"
      },
      "source": [
        "hello = tf.constant('Hello world!')"
      ],
      "execution_count": 5,
      "outputs": []
    },
    {
      "cell_type": "code",
      "metadata": {
        "colab": {
          "base_uri": "https://localhost:8080/"
        },
        "id": "Ly0VH_lXKM2c",
        "outputId": "10d473b0-3c43-4bc2-efe8-b2382528f864"
      },
      "source": [
        "sess = tf.Session()\n",
        "\n",
        "result = sess.run(hello)\n",
        "print(result)\n",
        "\n",
        "sess.close()"
      ],
      "execution_count": 6,
      "outputs": [
        {
          "output_type": "stream",
          "text": [
            "b'Hello world!'\n"
          ],
          "name": "stdout"
        }
      ]
    },
    {
      "cell_type": "code",
      "metadata": {
        "colab": {
          "base_uri": "https://localhost:8080/"
        },
        "id": "Qg4yZy5gKZjD",
        "outputId": "8566ff7b-5ee2-4fcf-bb74-eb9b08d2e4e1"
      },
      "source": [
        "with tf.Session() as sess:\n",
        "    result = sess.run(hello)\n",
        "    print(result)"
      ],
      "execution_count": 7,
      "outputs": [
        {
          "output_type": "stream",
          "text": [
            "b'Hello world!'\n"
          ],
          "name": "stdout"
        }
      ]
    },
    {
      "cell_type": "code",
      "metadata": {
        "id": "1jOeDlcpKa37"
      },
      "source": [
        "a = tf.constant(2)\n",
        "b = tf.constant(3)\n",
        "\n",
        "c = tf.constant([1, 2, 3, 4])\n",
        "d = tf.constant([2, 3, 4, 5])"
      ],
      "execution_count": 8,
      "outputs": []
    },
    {
      "cell_type": "code",
      "metadata": {
        "colab": {
          "base_uri": "https://localhost:8080/"
        },
        "id": "LMYwRH9MKhv8",
        "outputId": "dd1a39c5-852f-43bf-9e1b-549049c9a047"
      },
      "source": [
        "with tf.Session() as sess:\n",
        "    print('a = {}, b = {}, c = {}, d = {}\\n'.format(\n",
        "        sess.run(a), sess.run(b),\n",
        "        sess.run(c), sess.run(d)\n",
        "    ))\n",
        "    \n",
        "    print('a + b = {}\\n'\n",
        "          'a * b = {}'.format(sess.run(a + b), sess.run(a * b)))\n",
        "    \n",
        "    print('c + d = {}\\n'\n",
        "          'c * d = {}'.format(sess.run(c + d), sess.run(c * d)))"
      ],
      "execution_count": 9,
      "outputs": [
        {
          "output_type": "stream",
          "text": [
            "a = 2, b = 3, c = [1 2 3 4], d = [2 3 4 5]\n",
            "\n",
            "a + b = 5\n",
            "a * b = 6\n",
            "c + d = [3 5 7 9]\n",
            "c * d = [ 2  6 12 20]\n"
          ],
          "name": "stdout"
        }
      ]
    },
    {
      "cell_type": "code",
      "metadata": {
        "id": "BazM4mc3Kj4p"
      },
      "source": [
        "a = tf.placeholder(tf.int16)\n",
        "b = tf.placeholder(tf.int16)"
      ],
      "execution_count": 11,
      "outputs": []
    },
    {
      "cell_type": "code",
      "metadata": {
        "id": "5U6nk-u7Lw_n"
      },
      "source": [
        "add = tf.add(a, b)\n",
        "mul = tf.multiply(a, b)"
      ],
      "execution_count": 12,
      "outputs": []
    },
    {
      "cell_type": "code",
      "metadata": {
        "colab": {
          "base_uri": "https://localhost:8080/"
        },
        "id": "ChbqgCYXMBcY",
        "outputId": "d39cb916-7f72-4969-e29f-caa591bb88cd"
      },
      "source": [
        "with tf.Session() as sess:\n",
        "    writer = tf.summary.FileWriter('logs', sess.graph)\n",
        "    # > tensorboard --logdir logs/\n",
        "\n",
        "    print('a + b = {}'.format(sess.run(add, feed_dict={a: 3, b: 1})))\n",
        "    print('a * b = {}'.format(sess.run(mul, feed_dict={a: 7, b: 8})))"
      ],
      "execution_count": 14,
      "outputs": [
        {
          "output_type": "stream",
          "text": [
            "a + b = 4\n",
            "a * b = 56\n"
          ],
          "name": "stdout"
        }
      ]
    },
    {
      "cell_type": "code",
      "metadata": {
        "id": "fKFun5WbMyHN"
      },
      "source": [
        "import numpy as np\n",
        "import matplotlib.pyplot as plt\n",
        "%matplotlib inline"
      ],
      "execution_count": 15,
      "outputs": []
    },
    {
      "cell_type": "code",
      "metadata": {
        "id": "fE9WPCADNOzO"
      },
      "source": [
        "from sklearn.datasets import make_regression\n",
        "\n",
        "n_samples =42\n",
        "\n",
        "x_train, y_train = make_regression(\n",
        "    n_samples=n_samples, n_features=1,\n",
        "    noise=15, random_state=7\n",
        ")\n",
        "x_train = (x_train - x_train.mean()) / x_train.std()\n",
        "y_train = (y_train - y_train.mean()) / y_train.std()"
      ],
      "execution_count": 16,
      "outputs": []
    },
    {
      "cell_type": "code",
      "metadata": {
        "colab": {
          "base_uri": "https://localhost:8080/"
        },
        "id": "qTaQKLtbN56H",
        "outputId": "7106ebc7-fa70-4a07-8657-ef97b80dbc71"
      },
      "source": [
        "x_train[:5]"
      ],
      "execution_count": 17,
      "outputs": [
        {
          "output_type": "execute_result",
          "data": {
            "text/plain": [
              "array([[ 0.03264883],\n",
              "       [ 2.00453732],\n",
              "       [-0.09529635],\n",
              "       [-0.29220736],\n",
              "       [ 0.19354651]])"
            ]
          },
          "metadata": {
            "tags": []
          },
          "execution_count": 17
        }
      ]
    },
    {
      "cell_type": "code",
      "metadata": {
        "id": "VwGdPZ-5N8p1"
      },
      "source": [
        "X = tf.placeholder('float')\n",
        "Y = tf.placeholder('float')\n",
        "\n",
        "W = tf.Variable(np.random.randn(), name='weight')\n",
        "B = tf.Variable(np.random.randn(), name='bias')"
      ],
      "execution_count": 18,
      "outputs": []
    },
    {
      "cell_type": "code",
      "metadata": {
        "id": "B1bDbtncOdbK"
      },
      "source": [
        "prediction = tf.add(tf.multiply(X, W), B)"
      ],
      "execution_count": 19,
      "outputs": []
    },
    {
      "cell_type": "code",
      "metadata": {
        "colab": {
          "base_uri": "https://localhost:8080/"
        },
        "id": "2aF_7Eo9Ol_D",
        "outputId": "01a26435-578e-4318-81ca-b69d75fd840d"
      },
      "source": [
        "learning_rate = tf.placeholder(tf.float32, shape=[])\n",
        "\n",
        "cost = tf.reduce_sum(tf.pow(prediction - Y, 2)) / n_samples\n",
        "optimizer = tf.train.GradientDescentOptimizer(learning_rate=learning_rate).minimize(cost)"
      ],
      "execution_count": 20,
      "outputs": [
        {
          "output_type": "stream",
          "text": [
            "WARNING:tensorflow:From /tensorflow-1.15.2/python3.7/tensorflow_core/python/ops/math_grad.py:1375: where (from tensorflow.python.ops.array_ops) is deprecated and will be removed in a future version.\n",
            "Instructions for updating:\n",
            "Use tf.where in 2.0, which has the same broadcast rule as np.where\n"
          ],
          "name": "stdout"
        }
      ]
    },
    {
      "cell_type": "code",
      "metadata": {
        "id": "PFqFJiM7PXEl"
      },
      "source": [
        "init = tf.global_variables_initializer()"
      ],
      "execution_count": 21,
      "outputs": []
    },
    {
      "cell_type": "code",
      "metadata": {
        "colab": {
          "base_uri": "https://localhost:8080/"
        },
        "id": "Wkpb12EfPj4r",
        "outputId": "3ce73335-923b-447a-c263-99186050a4c7"
      },
      "source": [
        "epochs = 1000\n",
        "sess = tf.Session()\n",
        "sess.run(init)\n",
        "\n",
        "lr = 0.1\n",
        "for epoch in range(epochs):\n",
        "    for (x_batch, y_batch) in zip(x_train, y_train):\n",
        "        sess.run(optimizer, feed_dict={X: x_batch, Y: y_batch, learning_rate: lr})\n",
        "\n",
        "    if epoch % 100 == 0:\n",
        "        lr /= 2\n",
        "        c = sess.run(cost, feed_dict={X: x_train, Y: y_train})\n",
        "        print(f'Epoch #{epoch}: cost = {c}')"
      ],
      "execution_count": 23,
      "outputs": [
        {
          "output_type": "stream",
          "text": [
            "Epoch #0: cost = 75.8685531616211\n",
            "Epoch #100: cost = 67.63108825683594\n",
            "Epoch #200: cost = 67.46202087402344\n",
            "Epoch #300: cost = 67.38154602050781\n",
            "Epoch #400: cost = 67.34587860107422\n",
            "Epoch #500: cost = 67.32943725585938\n",
            "Epoch #600: cost = 67.32154083251953\n",
            "Epoch #700: cost = 67.3176498413086\n",
            "Epoch #800: cost = 67.31454467773438\n",
            "Epoch #900: cost = 67.31416320800781\n"
          ],
          "name": "stdout"
        }
      ]
    },
    {
      "cell_type": "code",
      "metadata": {
        "colab": {
          "base_uri": "https://localhost:8080/",
          "height": 265
        },
        "id": "JcAgvMh0RJbV",
        "outputId": "5ea5839c-6410-4772-de48-3c92c266c0e1"
      },
      "source": [
        "plt.plot(x_train, y_train, 'ro', label='Original data')\n",
        "plt.plot(x_train, sess.run(W) * x_train + sess.run(B), label='Fitted line')\n",
        "plt.legend()\n",
        "plt.show();"
      ],
      "execution_count": 25,
      "outputs": [
        {
          "output_type": "display_data",
          "data": {
            "image/png": "[encoded data removed]",
            "text/plain": [
              "<Figure size 432x288 with 1 Axes>"
            ]
          },
          "metadata": {
            "tags": [],
            "needs_background": "light"
          }
        }
      ]
    },
    {
      "cell_type": "code",
      "metadata": {
        "id": "eLRuCgtbRs9q"
      },
      "source": [
        "sess.close()"
      ],
      "execution_count": 26,
      "outputs": []
    },
    {
      "cell_type": "code",
      "metadata": {
        "id": "x_8_D7w2SB1K"
      },
      "source": [
        ""
      ],
      "execution_count": null,
      "outputs": []
    }
  ]
}