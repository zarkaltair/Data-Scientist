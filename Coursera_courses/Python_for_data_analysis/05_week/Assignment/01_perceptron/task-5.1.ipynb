{
 "cells": [
  {
   "cell_type": "markdown",
   "metadata": {},
   "source": [
    "# Нейронные сети. Основы"
   ]
  },
  {
   "cell_type": "markdown",
   "metadata": {},
   "source": [
    "## Реализация перцептрона"
   ]
  },
  {
   "cell_type": "markdown",
   "metadata": {},
   "source": [
    "Перцептрон - это модель, предложенная Френком Розенблаттом в 1957 году и являющаяся прообразом современных нейронных сетей. По своей сути она представляет из себя значительно упрощенную схему восприятия информации мозгом. Целью этого практического задания будет реализация собственной модели перцептрона. Давайте разберем схему работы этого алгоритма в деталях.\n",
    "\n",
    "* Мы работаем с тренировочной выборкой $S = \\{(x_i, y_i)| i \\in \\{1,...,m\\} \\}$\n",
    "* Инициализируем веса $\\omega^{(0)} \\leftarrow 0$ нулевым вектором.\n",
    "* Инициализирует bias параметр $b = 0$.\n",
    "* В начальный момент времени номер шага $t=0$.\n",
    "* Задаем learning rate $\\eta > 0$.\n",
    "* Пока значение $t < t_{\\max}$\n",
    "    * случайно выбираем объект из тренировочной выборки $(x_i, y_i) \\in S$.\n",
    "    * если выполняется условие $y_i (\\langle \\omega^{(t)}, x_i\\rangle + b) \\leq 0$ тогда\n",
    "        * $b^{(t+1)} \\leftarrow b^{(t)} + \\eta \\times y_i$.\n",
    "        * $\\omega^{(t+1)} \\leftarrow \\omega^{(t)} + \\eta \\times y_i \\times x_i$.\n",
    "    * далее, обновляем $t \\leftarrow t+1$.\n",
    "\n",
    "Таким образом, финальное значение ветора весов $\\omega$ и bias параметра $b$ позволяют классифицировать новый объект $x$. Если $(\\langle \\omega, x \\rangle + b) \\geq 0$, то мы относим объект к классу $+1$, в противном случае мы относим объект к классу $-1$."
   ]
  },
  {
   "cell_type": "markdown",
   "metadata": {},
   "source": [
    "Для начала загрузим датасет для задачи классификации цветков Ириса с помощь функции `load_iris` из `sklearn.datasets`. Давайте подготовим данные для задачи бинарной классификации. Для этого выберем первые 100 элементов из данного набора данных. Так же преобразуем класс $0$ в класс $-1$."
   ]
  },
  {
   "cell_type": "code",
   "execution_count": 1,
   "metadata": {},
   "outputs": [],
   "source": [
    "import numpy as np\n",
    "from sklearn.datasets import load_iris\n",
    "\n",
    "X, y = load_iris(return_X_y=True)\n",
    "X, y = X[:100], y[:100]\n",
    "num_features = X.shape[1]\n",
    "y = np.array([1 if y_i == 1 else -1 for y_i in y])"
   ]
  },
  {
   "cell_type": "markdown",
   "metadata": {},
   "source": [
    "Реализуйте алгоритм перцептрона приведенный выше. Для выборки случайного объекта из тренировочного датасета по индексу используйте функцию `randint` из модуля `random` с параметрами 0 и n, где n - это размер тренировочно выборки. Перед запуском итераций алгоритма установите `random.seed(42)`. Вы можете реализовать перцептрон в качестве класса с интерфейсом, похожим на интерфейсы моделей из `scikit-learn`. Для этого достаточно реализовать функцию `fit` и `predict` для решения этого практического задания. Однако, ваша реализация может отличаться. Необходимое требование - это использование генератора случайных чисел, описанного выше."
   ]
  },
  {
   "cell_type": "markdown",
   "metadata": {},
   "source": [
    "### *РЕШЕНИЕ*"
   ]
  },
  {
   "cell_type": "code",
   "execution_count": 120,
   "metadata": {},
   "outputs": [
    {
     "data": {
      "text/plain": [
       "array([[5.1, 3.5, 1.4, 0.2]])"
      ]
     },
     "execution_count": 120,
     "metadata": {},
     "output_type": "execute_result"
    }
   ],
   "source": [
    "X[:1]"
   ]
  },
  {
   "cell_type": "code",
   "execution_count": 126,
   "metadata": {},
   "outputs": [],
   "source": [
    "import random\n",
    "random.seed(42)\n",
    "\n",
    "\n",
    "class Perceptron:\n",
    "    def __init__(self, num_features, lr, t_max):\n",
    "        self.w = np.zeros(num_features)\n",
    "        self.lr = lr\n",
    "        self.t_max = t_max\n",
    "        self.b = 0\n",
    "    \n",
    "    def fit(self, X_train, y_train):\n",
    "        t = 0\n",
    "        while t < self.t_max:\n",
    "            x = random.randint(0, X_train.shape[0] - 1)\n",
    "            if (y_train[x] * np.sum(X_train[x] * self.w) + self.b) <= 0:\n",
    "                self.b += self.lr * y_train[x]\n",
    "                print(self.b)\n",
    "                self.w += self.lr * y_train[x] * X_train[x]\n",
    "                print(self.w)\n",
    "            else:\n",
    "                t += 1\n",
    "        print(self.w, self.b)\n",
    "\n",
    "    def predict(self, X_test):\n",
    "        pred = []\n",
    "        for ind, x in enumerate(X_test):\n",
    "            if (np.sum(x * self.w) + self.b) >= 0:\n",
    "                pred.append(1)\n",
    "            else:\n",
    "                pred.append(-1)\n",
    "        return pred"
   ]
  },
  {
   "cell_type": "markdown",
   "metadata": {},
   "source": [
    "Следующим шагом является проверка нашей модели. Случайно разделите выборку на тренировочный и тестовый датасет, используя функцию `tran_test_split` с параметрами `test_size=0.25` и `random_state=10`. Запустите обучение модели с параметрами $\\eta=0.1$ и $t_{\\max}=40$. Оцените качество на тестовой выборке и запишите результат в переменную `score` с точность до двух знаков после запятой, используя метрику `accuracy`. Это значение и будет являться ответом на это практическое задание."
   ]
  },
  {
   "cell_type": "markdown",
   "metadata": {},
   "source": [
    "### *РЕШЕНИЕ*"
   ]
  },
  {
   "cell_type": "code",
   "execution_count": 127,
   "metadata": {},
   "outputs": [
    {
     "name": "stdout",
     "output_type": "stream",
     "text": [
      "-0.1\n",
      "[-0.53 -0.37 -0.15 -0.02]\n",
      "0.0\n",
      "[ 0.04 -0.08  0.27  0.11]\n",
      "-0.1\n",
      "[-0.5  -0.47  0.1   0.07]\n",
      "0.0\n",
      "[ 0.   -0.24  0.43  0.17]\n",
      "-0.1\n",
      "[-0.48 -0.58  0.24  0.15]\n",
      "0.0\n",
      "[ 0.15 -0.35  0.68  0.28]\n",
      "-0.1\n",
      "[-0.36 -0.68  0.51  0.23]\n",
      "0.0\n",
      "[ 0.21 -0.4   0.96  0.36]\n",
      "-0.1\n",
      "[-0.33 -0.74  0.81  0.32]\n",
      "0.0\n",
      "[ 0.18 -0.49  1.11  0.43]\n",
      "-0.1\n",
      "[-0.36 -0.83  0.96  0.39]\n",
      "0.0\n",
      "[ 0.3  -0.53  1.4   0.53]\n",
      "-0.1\n",
      "[-0.2  -0.89  1.26  0.51]\n",
      "[-0.2  -0.89  1.26  0.51] -0.1\n"
     ]
    }
   ],
   "source": [
    "from sklearn.metrics import accuracy_score\n",
    "from sklearn.model_selection import train_test_split\n",
    "\n",
    "X_train, X_test, y_train, y_test = train_test_split(X, y, test_size=0.25, random_state=10)\n",
    "model = Perceptron(num_features, 0.1, 40)\n",
    "model.fit(X_train, y_train)\n",
    "y_pred = model.predict(X_test)\n",
    "score = round(accuracy_score(y_test, y_pred), 2)"
   ]
  },
  {
   "cell_type": "markdown",
   "metadata": {},
   "source": [
    "# Строка с ответами"
   ]
  },
  {
   "cell_type": "code",
   "execution_count": 128,
   "metadata": {},
   "outputs": [
    {
     "name": "stdout",
     "output_type": "stream",
     "text": [
      "score 1.00\n"
     ]
    }
   ],
   "source": [
    "print(f\"score {score:.2f}\")"
   ]
  },
  {
   "cell_type": "code",
   "execution_count": null,
   "metadata": {},
   "outputs": [],
   "source": []
  }
 ],
 "metadata": {
  "kernelspec": {
   "display_name": "Python 3",
   "language": "python",
   "name": "python3"
  },
  "language_info": {
   "codemirror_mode": {
    "name": "ipython",
    "version": 3
   },
   "file_extension": ".py",
   "mimetype": "text/x-python",
   "name": "python",
   "nbconvert_exporter": "python",
   "pygments_lexer": "ipython3",
   "version": "3.8.6"
  }
 },
 "nbformat": 4,
 "nbformat_minor": 1
}
