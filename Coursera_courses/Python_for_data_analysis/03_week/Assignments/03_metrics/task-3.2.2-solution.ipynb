{
 "cells": [
  {
   "cell_type": "markdown",
   "metadata": {},
   "source": [
    "# Измерение качества моделей"
   ]
  },
  {
   "cell_type": "markdown",
   "metadata": {},
   "source": [
    "## Метрики качества"
   ]
  },
  {
   "cell_type": "markdown",
   "metadata": {},
   "source": [
    "Это практическое задание посвящено ознакомлению с инструментами оценки качества моделей машинного обучения, которые предоставляет библиотека `scikit-learn`. Метрики качества, представленные различными функциями, находятся в модуле `sklearn.metrics`. Мы начнем с загрузки набора данных из файла `data.csv` при помощи функции `read_csv` из библиотеки `pandas`. Этот набор данных содержит информацию о предсказаниях различных алгоритмов машинного обучения для решения задачи классификации. Колонка `prediction` - это результаты работы одного из этих алгоритмов. Целевая переменная содержится в столбце `target` (класс 0 или 1). Подсчитайте значение `true negative`, `false negative`, `true positive` и `false positive`. Запишите эти значения через запятую, сохраняя приведенный порядок, в переменную `answer1`, которая будет являтся строкой. Далее, посчитайте для этих данных значение таких метрик как `precision`, `recall` и `f1 score` с точностью до двух знаков после запятой. Запишите результаты в строго заданном порядке через запятую в переменную `answer2`, которая так же будет являться строкой"
   ]
  },
  {
   "cell_type": "markdown",
   "metadata": {},
   "source": [
    "### *РЕШЕНИЕ*"
   ]
  },
  {
   "cell_type": "code",
   "execution_count": 1,
   "metadata": {},
   "outputs": [],
   "source": [
    "import pandas as pd\n",
    "from sklearn.metrics import confusion_matrix\n",
    "\n",
    "data = pd.read_csv('data.csv')\n",
    "conf_matrix = confusion_matrix(data['target'], data['prediction'])\n",
    "answer1 = [conf_matrix[0][0], conf_matrix[1][0], conf_matrix[1][1], conf_matrix[0][1]]\n",
    "answer1 = ','.join([str(c) for c in answer1])"
   ]
  },
  {
   "cell_type": "code",
   "execution_count": 2,
   "metadata": {},
   "outputs": [],
   "source": [
    "from sklearn.metrics import precision_score, recall_score, f1_score\n",
    "\n",
    "def get_score(estimator):\n",
    "    score = estimator(data['target'], data['prediction'])\n",
    "    return str(round(score, 2))\n",
    "\n",
    "answer2 = ','.join(map(get_score, [precision_score, recall_score, f1_score]))"
   ]
  },
  {
   "cell_type": "markdown",
   "metadata": {},
   "source": [
    "В столбцах `scores_1` и `scores_2` содержаться оценки вероятности пренадлежности объектов к классу 1 для двух разных алгоритмов машинного обучения. Рассчитайте площадь под ROC-кривой для каждого алгоритма и сравните их. В качестве ответа `answer3` приведите большее из двух значений, округленное до трех знаков после запятой."
   ]
  },
  {
   "cell_type": "markdown",
   "metadata": {},
   "source": [
    "### *РЕШЕНИЕ*"
   ]
  },
  {
   "cell_type": "code",
   "execution_count": 3,
   "metadata": {},
   "outputs": [
    {
     "name": "stdout",
     "output_type": "stream",
     "text": [
      "score 1 > score 2 ? True\n"
     ]
    }
   ],
   "source": [
    "from sklearn.metrics import roc_auc_score\n",
    "\n",
    "score_1 = roc_auc_score(data['target'], data['scores_1'])\n",
    "score_2 = roc_auc_score(data['target'], data['scores_2'])\n",
    "print(\"score 1 > score 2 ? {}\".format(score_1 > score_2))\n",
    "answer3 = max(score_1, score_2)\n",
    "answer3 = round(answer3, 3)"
   ]
  },
  {
   "cell_type": "markdown",
   "metadata": {},
   "source": [
    "## Метод скользящего контроля"
   ]
  },
  {
   "cell_type": "markdown",
   "metadata": {},
   "source": [
    "Во второй части данного практического задания мы изучать различные методы оценки моделей машинного обучения. Загрузите набор данных `Breast Cancer Wisconsin (Diagnostic)`, используя функцию `load_breast_cancer` из модуля `sklearn.datasets`. Этот датасет позволяет решать задачу предсказания рака груди по различным характеристикам опухоли. В данном случае, целевая переменная принимает два значения, соответствующие доброкачественной и злокачественной опухоли. Проверьте, является ли данная выборка сбалансированной."
   ]
  },
  {
   "cell_type": "code",
   "execution_count": 4,
   "metadata": {},
   "outputs": [
    {
     "name": "stdout",
     "output_type": "stream",
     "text": [
      "Is this a balanced dataset? False\n"
     ]
    }
   ],
   "source": [
    "from sklearn.datasets import load_breast_cancer\n",
    "\n",
    "X, y = load_breast_cancer(return_X_y=True)\n",
    "counts = pd.value_counts(y)\n",
    "print(\"Is this a balanced dataset? {}\".format(counts[1] == counts[0]))"
   ]
  },
  {
   "cell_type": "markdown",
   "metadata": {},
   "source": [
    "Первый метод, который мы будем использовать, - это случайное разбиение датасета на тренировочную и тестовую выборку с помощью функции `train_test_split` из `sklearn.model_selection` с параметрами `random_state=3` и `test_size=0.33`. Если выборка является несбалансированной передайте целевую переменную в эту функцию в качестве аргумента `stratify`.\n",
    "\n",
    "Обучите логистическую регрессию (класс `LogisticRegression` из модуля `sklearn.linear_model`) с параметром конструктора `random_state=42` и метод K ближайших соседей (класс `KNeighborsClassifier` из модуля `sklearn.neighbors`) на тренировочной выборке. Оцените качество на тестовой выборке для каждой из моделей. В качестве метрики качества используйте `recall`. Какая из моделей показывает лучший результат? Ответом на это задание `answer4` является этот результат, округленный до трех знаков после запятой."
   ]
  },
  {
   "cell_type": "markdown",
   "metadata": {},
   "source": [
    "### *РЕШЕНИЕ*"
   ]
  },
  {
   "cell_type": "code",
   "execution_count": 5,
   "metadata": {},
   "outputs": [
    {
     "name": "stdout",
     "output_type": "stream",
     "text": [
      "best score: K Nearest Neighbors\n"
     ]
    }
   ],
   "source": [
    "from sklearn.model_selection import train_test_split\n",
    "from sklearn.metrics import recall_score\n",
    "from sklearn.neighbors import KNeighborsClassifier\n",
    "from sklearn.linear_model import LogisticRegression\n",
    "\n",
    "X_train, X_test, y_train, y_test = train_test_split(X, y, random_state=3, stratify=y, test_size=0.33)\n",
    "\n",
    "def get_score(model_cls, **kwargs):\n",
    "    model = model_cls(**kwargs)\n",
    "    model.fit(X_train, y_train)\n",
    "    y_pred = model.predict(X_test)\n",
    "    score = recall_score(y_test, y_pred)\n",
    "    return score\n",
    "\n",
    "score_knn = get_score(KNeighborsClassifier)\n",
    "score_logistic_regression = get_score(LogisticRegression, random_state=42)\n",
    "\n",
    "def get_best_score(score_knn, score_logistic_regerssion):\n",
    "    if score_knn > score_logistic_regression:\n",
    "        model_name = \"K Nearest Neighbors\"\n",
    "        answer = round(score_knn, 3)\n",
    "    else:\n",
    "        model_name = \"Logistic Regression\"\n",
    "        answer = round(score_logistic_regression, 3)\n",
    "    return model_name, answer\n",
    "\n",
    "model_name, answer4 = get_best_score(score_knn, score_logistic_regression)\n",
    "print(\"best score: %s\" % model_name)"
   ]
  },
  {
   "cell_type": "markdown",
   "metadata": {},
   "source": [
    "Далее мы проведем оценку каждой из этих моделей в соответствии с методом скользящего контроля с помощью функции `cross_val_score` из модуля `sklearn.model_selection`. В качестве параметра кросс-валидации `cv` в этой функции используйте экземпляр класса `StratifiedKFold` из `sklearn.model_selection` с тремя разбиениями. \n",
    "\n",
    "Функция `cross_val_score` возвращает количество оценок, соответствующие числу разбиений.\n",
    "В качестве итогового результата используете среднее значение полученных оценок с помощью метрики `recall`. Какая модель работает лучше в это случае? Какие выводы можно из этого сделать? Ответом на это задание `answer5` является лучший итоговый результат, округленный до трех знаков после запятой."
   ]
  },
  {
   "cell_type": "markdown",
   "metadata": {},
   "source": [
    "### *РЕШЕНИЕ*"
   ]
  },
  {
   "cell_type": "code",
   "execution_count": 6,
   "metadata": {},
   "outputs": [
    {
     "name": "stdout",
     "output_type": "stream",
     "text": [
      "best score: Logistic Regression\n"
     ]
    }
   ],
   "source": [
    "from sklearn.model_selection import cross_val_score, StratifiedKFold\n",
    "\n",
    "def estimate_model(model_cls, **kwargs):\n",
    "    model = model_cls(**kwargs)\n",
    "    cv = StratifiedKFold(3)\n",
    "    scores = cross_val_score(model, X, y, cv=cv, scoring='recall')\n",
    "    return scores.mean()\n",
    "\n",
    "score_knn = estimate_model(KNeighborsClassifier)\n",
    "score_logistic_regression = estimate_model(LogisticRegression, random_state=42)\n",
    "\n",
    "model_name, answer5 = get_best_score(score_knn, score_logistic_regression)\n",
    "print(\"best score: %s\" % model_name)"
   ]
  },
  {
   "cell_type": "markdown",
   "metadata": {},
   "source": [
    "# Строка с ответами"
   ]
  },
  {
   "cell_type": "code",
   "execution_count": 7,
   "metadata": {},
   "outputs": [
    {
     "name": "stdout",
     "output_type": "stream",
     "text": [
      "TN,FN,TP,FP = 63,4,114,7\n",
      "Precision,Recall,F1 Score = 0.94,0.97,0.95\n",
      "Best ROC AUC Score 0.993\n",
      "Random Split 0.975\n",
      "Cross Val Score 0.966\n"
     ]
    }
   ],
   "source": [
    "output = \"\"\"TN,FN,TP,FP = {0}\n",
    "Precision,Recall,F1 Score = {1}\n",
    "Best ROC AUC Score {2:.3f}\n",
    "Random Split {3:.3f}\n",
    "Cross Val Score {4:.3f}\"\"\"\n",
    "print(output.format(answer1, answer2, answer3, answer4, answer5))"
   ]
  }
 ],
 "metadata": {
  "kernelspec": {
   "display_name": "Python 3",
   "language": "python",
   "name": "python3"
  },
  "language_info": {
   "codemirror_mode": {
    "name": "ipython",
    "version": 3
   },
   "file_extension": ".py",
   "mimetype": "text/x-python",
   "name": "python",
   "nbconvert_exporter": "python",
   "pygments_lexer": "ipython3",
   "version": "3.8.6"
  }
 },
 "nbformat": 4,
 "nbformat_minor": 2
}
