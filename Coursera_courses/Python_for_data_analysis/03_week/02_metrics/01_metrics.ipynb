{
 "cells": [
  {
   "cell_type": "code",
   "execution_count": 1,
   "metadata": {},
   "outputs": [],
   "source": [
    "from sklearn import datasets\n",
    "from sklearn import metrics\n",
    "from sklearn.linear_model import LogisticRegression"
   ]
  },
  {
   "cell_type": "code",
   "execution_count": 5,
   "metadata": {},
   "outputs": [
    {
     "name": "stdout",
     "output_type": "stream",
     "text": [
      "Accuracy: 0.96\n"
     ]
    }
   ],
   "source": [
    "cancer = datasets.load_breast_cancer()\n",
    "logistic_regression = LogisticRegression(max_iter=100000)\n",
    "model = logistic_regression.fit(cancer.data, cancer.target)\n",
    "\n",
    "print(f'Accuracy: {model.score(cancer.data, cancer.target):.2f}')"
   ]
  },
  {
   "cell_type": "code",
   "execution_count": 7,
   "metadata": {},
   "outputs": [
    {
     "name": "stdout",
     "output_type": "stream",
     "text": [
      "Accuracy: 0.96\n",
      "ROC AUC: 0.95\n",
      "F1: 0.97\n"
     ]
    }
   ],
   "source": [
    "predictions = model.predict(cancer.data)\n",
    "\n",
    "print(f'Accuracy: {metrics.accuracy_score(cancer.target, predictions):.2f}')\n",
    "print(f'ROC AUC: {metrics.roc_auc_score(cancer.target, predictions):.2f}')\n",
    "print(f'F1: {metrics.f1_score(cancer.target, predictions):.2f}')"
   ]
  },
  {
   "cell_type": "code",
   "execution_count": 8,
   "metadata": {},
   "outputs": [],
   "source": [
    "from sklearn.model_selection import train_test_split"
   ]
  },
  {
   "cell_type": "code",
   "execution_count": 10,
   "metadata": {},
   "outputs": [
    {
     "name": "stdout",
     "output_type": "stream",
     "text": [
      "Train accuracy: 0.96\n",
      "Test accuracy: 0.94\n"
     ]
    }
   ],
   "source": [
    "X_train, X_test, y_train, y_test = train_test_split(\n",
    "    cancer.data, cancer.target,\n",
    "    test_size=0.2, random_state=12)\n",
    "model = logistic_regression.fit(X_train, y_train)\n",
    "print(f'Train accuracy: {model.score(X_train, y_train):.2f}')\n",
    "print(f'Test accuracy: {model.score(X_test, y_test):.2f}')"
   ]
  },
  {
   "cell_type": "code",
   "execution_count": 11,
   "metadata": {},
   "outputs": [],
   "source": [
    "from sklearn.linear_model import Lasso, Ridge, ElasticNet"
   ]
  },
  {
   "cell_type": "code",
   "execution_count": 12,
   "metadata": {},
   "outputs": [],
   "source": [
    "boston = datasets.load_boston()\n",
    "\n",
    "lasso = Lasso()\n",
    "ridge = Ridge()\n",
    "elastic = ElasticNet()"
   ]
  },
  {
   "cell_type": "code",
   "execution_count": 13,
   "metadata": {},
   "outputs": [
    {
     "name": "stdout",
     "output_type": "stream",
     "text": [
      "<class 'sklearn.linear_model._coordinate_descent.Lasso'>\n",
      "MSE: 19.524304342851448\n",
      "<class 'sklearn.linear_model._ridge.Ridge'>\n",
      "MSE: 21.221554762515407\n",
      "<class 'sklearn.linear_model._coordinate_descent.ElasticNet'>\n",
      "MSE: 32.023817752664975\n"
     ]
    }
   ],
   "source": [
    "for model in [lasso, ridge, elastic]:\n",
    "    x_train, x_test, y_train, y_test = train_test_split(boston.data, boston.target, test_size=0.2)\n",
    "    model.fit(x_train, y_train)\n",
    "    pred = model.predict(x_test)\n",
    "    print(model.__class__)\n",
    "    print(f'MSE: {metrics.mean_squared_error(y_test, pred)}')"
   ]
  },
  {
   "cell_type": "code",
   "execution_count": 16,
   "metadata": {},
   "outputs": [
    {
     "name": "stdout",
     "output_type": "stream",
     "text": [
      "R2: 0.68\n",
      "R2: 0.68\n"
     ]
    }
   ],
   "source": [
    "print(f'R2: {model.score(x_test, y_test):.2f}')\n",
    "print(f'R2: {metrics.r2_score(y_test, pred):.2f}')"
   ]
  },
  {
   "cell_type": "markdown",
   "metadata": {},
   "source": [
    "## Cross-validation"
   ]
  },
  {
   "cell_type": "code",
   "execution_count": 17,
   "metadata": {},
   "outputs": [],
   "source": [
    "from sklearn.model_selection import KFold, cross_val_score"
   ]
  },
  {
   "cell_type": "code",
   "execution_count": 18,
   "metadata": {},
   "outputs": [
    {
     "data": {
      "text/plain": [
       "dict_keys(['data', 'target', 'frame', 'target_names', 'DESCR', 'feature_names', 'filename'])"
      ]
     },
     "execution_count": 18,
     "metadata": {},
     "output_type": "execute_result"
    }
   ],
   "source": [
    "iris = datasets.load_iris()\n",
    "iris.keys()"
   ]
  },
  {
   "cell_type": "code",
   "execution_count": 20,
   "metadata": {},
   "outputs": [
    {
     "name": "stdout",
     "output_type": "stream",
     "text": [
      ".. _iris_dataset:\n",
      "\n",
      "Iris plants dataset\n",
      "--------------------\n",
      "\n",
      "**Data Set Characteristics:**\n",
      "\n",
      "    :Number of Instances: 150 (50 in each of three classes)\n",
      "    :Number of Attributes: 4 numeric, predictive attributes and the class\n",
      "    :Attribute Information:\n",
      "        - sepal length in cm\n",
      "        - sepal width in cm\n",
      "        - petal length in cm\n",
      "        - petal width in cm\n",
      "        - class:\n",
      "                - Iris-Setosa\n",
      "                - Iris-Versicolour\n",
      "                - Iris-Vi\n"
     ]
    }
   ],
   "source": [
    "print(iris.DESCR[:475])"
   ]
  },
  {
   "cell_type": "code",
   "execution_count": 22,
   "metadata": {},
   "outputs": [
    {
     "name": "stdout",
     "output_type": "stream",
     "text": [
      "Split 0 Score: 1.00\n",
      "Split 1 Score: 1.00\n",
      "Split 2 Score: 0.87\n",
      "Split 3 Score: 0.93\n",
      "Split 4 Score: 0.83\n"
     ]
    }
   ],
   "source": [
    "logistic_regression = LogisticRegression(max_iter=100000)\n",
    "cv = KFold(n_splits=5)\n",
    "\n",
    "for split_idx, (train_idx, test_idx) in enumerate(cv.split(iris.data)):\n",
    "    x_train, x_test = iris.data[train_idx], iris.data[test_idx]\n",
    "    y_train, y_test = iris.target[train_idx], iris.target[test_idx]\n",
    "    \n",
    "    logistic_regression.fit(x_train, y_train)\n",
    "    score = logistic_regression.score(x_test, y_test)\n",
    "    print(f'Split {split_idx} Score: {score:.2f}')"
   ]
  },
  {
   "cell_type": "code",
   "execution_count": 24,
   "metadata": {},
   "outputs": [
    {
     "name": "stdout",
     "output_type": "stream",
     "text": [
      "Cross val score: [1.         1.         0.86666667 0.93333333 0.83333333]\n",
      "Mean cross val score: 0.93\n"
     ]
    }
   ],
   "source": [
    "cv_score = cross_val_score(\n",
    "    logistic_regression, iris.data, iris.target, scoring='accuracy', cv=cv)\n",
    "\n",
    "print(f'Cross val score: {cv_score}')\n",
    "print(f'Mean cross val score: {cv_score.mean():.2f}')"
   ]
  },
  {
   "cell_type": "code",
   "execution_count": null,
   "metadata": {},
   "outputs": [],
   "source": []
  }
 ],
 "metadata": {
  "kernelspec": {
   "display_name": "Python 3",
   "language": "python",
   "name": "python3"
  },
  "language_info": {
   "codemirror_mode": {
    "name": "ipython",
    "version": 3
   },
   "file_extension": ".py",
   "mimetype": "text/x-python",
   "name": "python",
   "nbconvert_exporter": "python",
   "pygments_lexer": "ipython3",
   "version": "3.8.6"
  }
 },
 "nbformat": 4,
 "nbformat_minor": 4
}
