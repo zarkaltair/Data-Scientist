{
 "cells": [
  {
   "cell_type": "code",
   "execution_count": 1,
   "metadata": {},
   "outputs": [],
   "source": [
    "from collections import namedtuple\n",
    "from math import sqrt\n",
    "import random\n",
    "try:\n",
    "    import Image\n",
    "except ImportError:\n",
    "    from PIL import Image"
   ]
  },
  {
   "cell_type": "code",
   "execution_count": 2,
   "metadata": {},
   "outputs": [],
   "source": [
    "Point = namedtuple('Point', ('coords', 'n', 'ct'))\n",
    "Cluster = namedtuple('Cluster', ('points', 'center', 'n'))"
   ]
  },
  {
   "cell_type": "code",
   "execution_count": 3,
   "metadata": {},
   "outputs": [],
   "source": [
    "def get_points(img):\n",
    "    points = []\n",
    "    w, h = img.size\n",
    "    for count, color in img.getcolors(w * h):\n",
    "        points.append(Point(color, 3, count))\n",
    "    return points"
   ]
  },
  {
   "cell_type": "code",
   "execution_count": 4,
   "metadata": {},
   "outputs": [],
   "source": [
    "rtoh = lambda rgb: '#%s' % ''.join(('%02x' % p for p in rgb))"
   ]
  },
  {
   "cell_type": "code",
   "execution_count": 5,
   "metadata": {},
   "outputs": [],
   "source": [
    "def colorz(filename, n=3):\n",
    "    img = Image.open(filename)\n",
    "    img.thumbnail((200, 200))\n",
    "    w, h = img.size\n",
    "\n",
    "    points = get_points(img)\n",
    "    clusters = kmeans(points, n, 1)\n",
    "    rgbs = [map(int, c.center.coords) for c in clusters]\n",
    "    return map(rtoh, rgbs)"
   ]
  },
  {
   "cell_type": "code",
   "execution_count": 6,
   "metadata": {},
   "outputs": [],
   "source": [
    "def euclidean(p1, p2):\n",
    "    return sqrt(sum([\n",
    "        (p1.coords[i] - p2.coords[i]) ** 2 for i in range(p1.n)\n",
    "    ]))"
   ]
  },
  {
   "cell_type": "code",
   "execution_count": 7,
   "metadata": {},
   "outputs": [],
   "source": [
    "def calculate_center(points, n):\n",
    "    vals = [0.0 for i in range(n)]\n",
    "    plen = 0\n",
    "    for p in points:\n",
    "        plen += p.ct\n",
    "        for i in range(n):\n",
    "            vals[i] += (p.coords[i] * p.ct)\n",
    "    return Point([(v / plen) for v in vals], n, 1)"
   ]
  },
  {
   "cell_type": "code",
   "execution_count": 8,
   "metadata": {},
   "outputs": [],
   "source": [
    "def kmeans(points, k, min_diff):\n",
    "    clusters = [Cluster([p], p, p.n) for p in random.sample(points, k)]\n",
    "\n",
    "    while 1:\n",
    "        plists = [[] for i in range(k)]\n",
    "\n",
    "        for p in points:\n",
    "            smallest_distance = float('Inf')\n",
    "            for i in range(k):\n",
    "                distance = euclidean(p, clusters[i].center)\n",
    "                if distance < smallest_distance:\n",
    "                    smallest_distance = distance\n",
    "                    idx = i\n",
    "            plists[idx].append(p)\n",
    "\n",
    "        diff = 0\n",
    "        for i in range(k):\n",
    "            old = clusters[i]\n",
    "            center = calculate_center(plists[i], old.n)\n",
    "            new = Cluster(plists[i], center, old.n)\n",
    "            clusters[i] = new\n",
    "            diff = max(diff, euclidean(old.center, new.center))\n",
    "\n",
    "        if diff < min_diff:\n",
    "            break\n",
    "\n",
    "    return clusters"
   ]
  },
  {
   "cell_type": "code",
   "execution_count": 14,
   "metadata": {},
   "outputs": [
    {
     "data": {
      "text/plain": [
       "['#885651', '#4f2d2e', '#221014']"
      ]
     },
     "execution_count": 14,
     "metadata": {},
     "output_type": "execute_result"
    }
   ],
   "source": [
    "list(colorz('test_1.jpg'))"
   ]
  }
 ],
 "metadata": {
  "kernelspec": {
   "display_name": "Python 3",
   "language": "python",
   "name": "python3"
  },
  "language_info": {
   "codemirror_mode": {
    "name": "ipython",
    "version": 3
   },
   "file_extension": ".py",
   "mimetype": "text/x-python",
   "name": "python",
   "nbconvert_exporter": "python",
   "pygments_lexer": "ipython3",
   "version": "3.6.7"
  }
 },
 "nbformat": 4,
 "nbformat_minor": 2
}
